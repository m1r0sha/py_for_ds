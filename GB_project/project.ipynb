{
 "cells": [
  {
   "cell_type": "markdown",
   "source": [
    "# Курсовой проект для курса “Python для Data Science”"
   ],
   "metadata": {
    "collapsed": false,
    "pycharm": {
     "name": "#%% md\n"
    }
   }
  },
  {
   "cell_type": "markdown",
   "source": [
    "### Задание для курсового проекта"
   ],
   "metadata": {
    "collapsed": false,
    "pycharm": {
     "name": "#%% md\n"
    }
   }
  },
  {
   "cell_type": "markdown",
   "source": [
    "Метрика:\n",
    "     R2 - коэффициент детерминации (sklearn.metrics.r2_score)\n",
    "\n",
    "Сдача проекта:\n",
    "     1. Сдать проект нужно в течение 7 дней после окончания последнего вебинара.\n",
    "     2. Прислать в раздел Задания Урока 10 (\"Вебинар. Консультация по итоговому проекту\") ссылку на ноутбук в github или public kaggle notebook.\n",
    "     3. Рекомендую файл ipynb и итоговый csv дополнительно прикрепить к ответу на платформе GB.\n",
    "     4. Необходимо получить R2 > 0.6.\n",
    "\n",
    "Примечание:\n",
    "Все файлы csv должны содержать названия полей (header - то есть \"шапку\"),разделитель - запятая. В файлах не должны содержаться индексы из датафрейма."
   ],
   "metadata": {
    "collapsed": false,
    "pycharm": {
     "name": "#%% md\n"
    }
   }
  },
  {
   "cell_type": "markdown",
   "source": [
    "Рекомендации для файла с кодом (ipynb):\n",
    "1. Файл должен содержать заголовки и комментарии\n",
    "2. Использовать относительные пути для чтения csv\n",
    "3. Повторяющиеся операции лучше оформлять в виде функций\n",
    "4. По возможности добавлять графики, описывающие данные (около 3-5)\n",
    "5. Добавлять только лучшую модель, то есть не включать в код все варианты решения проекта\n",
    "6. Скрипт проекта должен отрабатывать от начала и до конца (от загрузки данных до выгрузки предсказаний)\n",
    "7. Весь проект должен быть в одном скрипте (файл ipynb).\n",
    "8. При использовании статистик (среднее, медиана и т.д.) в качестве признаков, лучше считать их на трейне, и потом на валидационных и тестовых данных не считать статистики заново, а брать их с трейна.\n",
    "9. Проект должен полностью отрабатывать за разумное время (не больше 10 минут), поэтому в финальный вариант лучше не включать GridSearch с перебором большого количества сочетаний параметров."
   ],
   "metadata": {
    "collapsed": false,
    "pycharm": {
     "name": "#%% md\n"
    }
   }
  },
  {
   "cell_type": "markdown",
   "source": [
    "##### Подключение библиотек и скриптов"
   ],
   "metadata": {
    "collapsed": false,
    "pycharm": {
     "name": "#%% md\n"
    }
   }
  },
  {
   "cell_type": "code",
   "execution_count": 122,
   "outputs": [],
   "source": [
    "import numpy as np\n",
    "import pandas as pd\n",
    "import random\n",
    "\n",
    "from sklearn.model_selection import train_test_split, cross_val_score\n",
    "from sklearn.preprocessing import StandardScaler, RobustScaler\n",
    "from sklearn.ensemble import RandomForestRegressor\n",
    "from sklearn.metrics import r2_score as r2\n",
    "from sklearn.model_selection import KFold, GridSearchCV\n",
    "\n",
    "from datetime import datetime\n",
    "\n",
    "import matplotlib\n",
    "import matplotlib.pyplot as plt\n",
    "import seaborn as sns\n",
    "%matplotlib inline"
   ],
   "metadata": {
    "collapsed": false,
    "pycharm": {
     "name": "#%%\n"
    }
   }
  },
  {
   "cell_type": "code",
   "execution_count": 123,
   "outputs": [],
   "source": [
    "import warnings\n",
    "warnings.filterwarnings('ignore')"
   ],
   "metadata": {
    "collapsed": false,
    "pycharm": {
     "name": "#%%\n"
    }
   }
  },
  {
   "cell_type": "code",
   "execution_count": 124,
   "outputs": [],
   "source": [
    "matplotlib.rcParams.update({'font.size': 14})"
   ],
   "metadata": {
    "collapsed": false,
    "pycharm": {
     "name": "#%%\n"
    }
   }
  },
  {
   "cell_type": "code",
   "execution_count": 125,
   "outputs": [],
   "source": [
    "def evaluate_preds(train_true_values, train_pred_values, test_true_values, test_pred_values):\n",
    "    print(\"Train R2:\\t\" + str(round(r2(train_true_values, train_pred_values), 3)))\n",
    "    print(\"Test R2:\\t\" + str(round(r2(test_true_values, test_pred_values), 3)))\n",
    "\n",
    "    plt.figure(figsize=(18,10))\n",
    "\n",
    "    plt.subplot(121)\n",
    "    sns.scatterplot(x=train_pred_values, y=train_true_values)\n",
    "    plt.xlabel('Predicted values')\n",
    "    plt.ylabel('True values')\n",
    "    plt.title('Train sample prediction')\n",
    "\n",
    "    plt.subplot(122)\n",
    "    sns.scatterplot(x=test_pred_values, y=test_true_values)\n",
    "    plt.xlabel('Predicted values')\n",
    "    plt.ylabel('True values')\n",
    "    plt.title('Test sample prediction')\n",
    "\n",
    "    plt.show()"
   ],
   "metadata": {
    "collapsed": false,
    "pycharm": {
     "name": "#%%\n"
    }
   }
  },
  {
   "cell_type": "markdown",
   "source": [
    "##### Пути к директориям и файлам"
   ],
   "metadata": {
    "collapsed": false,
    "pycharm": {
     "name": "#%% md\n"
    }
   }
  },
  {
   "cell_type": "code",
   "execution_count": 126,
   "outputs": [],
   "source": [
    "TRAIN_DATASET_PATH = '../GB_project/train.csv'\n",
    "TEST_DATASET_PATH = '../GB_project/test.csv'"
   ],
   "metadata": {
    "collapsed": false,
    "pycharm": {
     "name": "#%%\n"
    }
   }
  },
  {
   "cell_type": "markdown",
   "source": [
    "### Загрузка данных"
   ],
   "metadata": {
    "collapsed": false,
    "pycharm": {
     "name": "#%% md\n"
    }
   }
  },
  {
   "cell_type": "markdown",
   "source": [
    "##### Описание датасета:\n",
    " - Id - идентификационный номер квартиры\n",
    " - DistrictId - идентификационный номер района\n",
    "- Rooms - количество комнат\n",
    "- Square - площадь\n",
    "- LifeSquare - жилая площадь\n",
    "- KitchenSquare - площадь кухни\n",
    "- Floor - этаж\n",
    "- HouseFloor - количество этажей в доме\n",
    "- HouseYear - год постройки дома\n",
    "- Ecology_1, Ecology_2, Ecology_3 - экологические показатели местности\n",
    "- Social_1, Social_2, Social_3 - социальные показатели местности\n",
    "- Healthcare_1, Helthcare_2 - показатели местности, связанные с охраной здоровья\n",
    "- Shops_1, Shops_2 - показатели, связанные с наличием магазинов, торговых центров\n",
    "- Price - цена квартиры"
   ],
   "metadata": {
    "collapsed": false,
    "pycharm": {
     "name": "#%% md\n"
    }
   }
  },
  {
   "cell_type": "code",
   "execution_count": 127,
   "outputs": [
    {
     "data": {
      "text/plain": "        Id  DistrictId  Rooms     Square  LifeSquare  KitchenSquare  Floor  \\\n9995    77          32    2.0  50.401785   30.476203            5.0      6   \n9996  6159          18    1.0  41.521546   20.539216            9.0     13   \n9997  5123          27    1.0  47.939008         NaN            1.0     12   \n9998  5400          75    2.0  43.602562   33.840147            8.0      1   \n9999  6306         128    1.0  38.666645   21.157874            8.0      7   \n\n      HouseFloor  HouseYear  Ecology_1 Ecology_2 Ecology_3  Social_1  \\\n9995         5.0       1968   0.135650         B         B        46   \n9996        13.0       2000   0.000000         B         B        30   \n9997        16.0       2015   0.072158         B         B         2   \n9998         5.0       1961   0.307467         B         A        30   \n9999        17.0       1990   0.000000         B         B        27   \n\n      Social_2  Social_3  Healthcare_1  Helthcare_2  Shops_1 Shops_2  \\\n9995      7960         6         350.0            3       11       B   \n9996      5562         0           NaN            0        5       A   \n9997       629         1           NaN            0        0       A   \n9998      5048         9         325.0            2        5       B   \n9999      4798         0          30.0            2        8       B   \n\n              Price  \n9995  196684.316040  \n9996  189050.289571  \n9997  159143.805370  \n9998  181595.339808  \n9999  218714.077615  ",
      "text/html": "<div>\n<style scoped>\n    .dataframe tbody tr th:only-of-type {\n        vertical-align: middle;\n    }\n\n    .dataframe tbody tr th {\n        vertical-align: top;\n    }\n\n    .dataframe thead th {\n        text-align: right;\n    }\n</style>\n<table border=\"1\" class=\"dataframe\">\n  <thead>\n    <tr style=\"text-align: right;\">\n      <th></th>\n      <th>Id</th>\n      <th>DistrictId</th>\n      <th>Rooms</th>\n      <th>Square</th>\n      <th>LifeSquare</th>\n      <th>KitchenSquare</th>\n      <th>Floor</th>\n      <th>HouseFloor</th>\n      <th>HouseYear</th>\n      <th>Ecology_1</th>\n      <th>Ecology_2</th>\n      <th>Ecology_3</th>\n      <th>Social_1</th>\n      <th>Social_2</th>\n      <th>Social_3</th>\n      <th>Healthcare_1</th>\n      <th>Helthcare_2</th>\n      <th>Shops_1</th>\n      <th>Shops_2</th>\n      <th>Price</th>\n    </tr>\n  </thead>\n  <tbody>\n    <tr>\n      <th>9995</th>\n      <td>77</td>\n      <td>32</td>\n      <td>2.0</td>\n      <td>50.401785</td>\n      <td>30.476203</td>\n      <td>5.0</td>\n      <td>6</td>\n      <td>5.0</td>\n      <td>1968</td>\n      <td>0.135650</td>\n      <td>B</td>\n      <td>B</td>\n      <td>46</td>\n      <td>7960</td>\n      <td>6</td>\n      <td>350.0</td>\n      <td>3</td>\n      <td>11</td>\n      <td>B</td>\n      <td>196684.316040</td>\n    </tr>\n    <tr>\n      <th>9996</th>\n      <td>6159</td>\n      <td>18</td>\n      <td>1.0</td>\n      <td>41.521546</td>\n      <td>20.539216</td>\n      <td>9.0</td>\n      <td>13</td>\n      <td>13.0</td>\n      <td>2000</td>\n      <td>0.000000</td>\n      <td>B</td>\n      <td>B</td>\n      <td>30</td>\n      <td>5562</td>\n      <td>0</td>\n      <td>NaN</td>\n      <td>0</td>\n      <td>5</td>\n      <td>A</td>\n      <td>189050.289571</td>\n    </tr>\n    <tr>\n      <th>9997</th>\n      <td>5123</td>\n      <td>27</td>\n      <td>1.0</td>\n      <td>47.939008</td>\n      <td>NaN</td>\n      <td>1.0</td>\n      <td>12</td>\n      <td>16.0</td>\n      <td>2015</td>\n      <td>0.072158</td>\n      <td>B</td>\n      <td>B</td>\n      <td>2</td>\n      <td>629</td>\n      <td>1</td>\n      <td>NaN</td>\n      <td>0</td>\n      <td>0</td>\n      <td>A</td>\n      <td>159143.805370</td>\n    </tr>\n    <tr>\n      <th>9998</th>\n      <td>5400</td>\n      <td>75</td>\n      <td>2.0</td>\n      <td>43.602562</td>\n      <td>33.840147</td>\n      <td>8.0</td>\n      <td>1</td>\n      <td>5.0</td>\n      <td>1961</td>\n      <td>0.307467</td>\n      <td>B</td>\n      <td>A</td>\n      <td>30</td>\n      <td>5048</td>\n      <td>9</td>\n      <td>325.0</td>\n      <td>2</td>\n      <td>5</td>\n      <td>B</td>\n      <td>181595.339808</td>\n    </tr>\n    <tr>\n      <th>9999</th>\n      <td>6306</td>\n      <td>128</td>\n      <td>1.0</td>\n      <td>38.666645</td>\n      <td>21.157874</td>\n      <td>8.0</td>\n      <td>7</td>\n      <td>17.0</td>\n      <td>1990</td>\n      <td>0.000000</td>\n      <td>B</td>\n      <td>B</td>\n      <td>27</td>\n      <td>4798</td>\n      <td>0</td>\n      <td>30.0</td>\n      <td>2</td>\n      <td>8</td>\n      <td>B</td>\n      <td>218714.077615</td>\n    </tr>\n  </tbody>\n</table>\n</div>"
     },
     "execution_count": 127,
     "metadata": {},
     "output_type": "execute_result"
    }
   ],
   "source": [
    "train_df = pd.read_csv(TRAIN_DATASET_PATH)\n",
    "train_df.tail()"
   ],
   "metadata": {
    "collapsed": false,
    "pycharm": {
     "name": "#%%\n"
    }
   }
  },
  {
   "cell_type": "code",
   "execution_count": 128,
   "outputs": [
    {
     "data": {
      "text/plain": "Id                 int64\nDistrictId         int64\nRooms            float64\nSquare           float64\nLifeSquare       float64\nKitchenSquare    float64\nFloor              int64\nHouseFloor       float64\nHouseYear          int64\nEcology_1        float64\nEcology_2         object\nEcology_3         object\nSocial_1           int64\nSocial_2           int64\nSocial_3           int64\nHealthcare_1     float64\nHelthcare_2        int64\nShops_1            int64\nShops_2           object\nPrice            float64\ndtype: object"
     },
     "execution_count": 128,
     "metadata": {},
     "output_type": "execute_result"
    }
   ],
   "source": [
    "train_df.dtypes"
   ],
   "metadata": {
    "collapsed": false,
    "pycharm": {
     "name": "#%%\n"
    }
   }
  },
  {
   "cell_type": "code",
   "execution_count": 129,
   "outputs": [
    {
     "data": {
      "text/plain": "         Id  DistrictId  Rooms     Square  LifeSquare  KitchenSquare  Floor  \\\n4995   8180          11    3.0  67.133911   50.809797            6.0      5   \n4996   4695           1    1.0  40.198472   21.807061           10.0     12   \n4997   5783          12    3.0  77.842178   48.282625            9.0     23   \n4998   4780          62    2.0  81.305222         NaN            0.0      4   \n4999  12504          30    2.0  60.555693         NaN            1.0     10   \n\n      HouseFloor  HouseYear  Ecology_1 Ecology_2 Ecology_3  Social_1  \\\n4995         9.0       1973   0.000170         B         B        36   \n4996        17.0       2017   0.007122         B         B         1   \n4997        22.0       1989   0.090799         B         B        74   \n4998         0.0       1977   0.072158         B         B         2   \n4999        17.0       1977   0.000078         B         B        22   \n\n      Social_2  Social_3  Healthcare_1  Helthcare_2  Shops_1 Shops_2  \n4995      5992         0           NaN            1        1       B  \n4996       264         0           NaN            0        1       B  \n4997     19083         2           NaN            5       15       B  \n4998       629         1           NaN            0        0       A  \n4999      6398       141        1046.0            3       23       B  ",
      "text/html": "<div>\n<style scoped>\n    .dataframe tbody tr th:only-of-type {\n        vertical-align: middle;\n    }\n\n    .dataframe tbody tr th {\n        vertical-align: top;\n    }\n\n    .dataframe thead th {\n        text-align: right;\n    }\n</style>\n<table border=\"1\" class=\"dataframe\">\n  <thead>\n    <tr style=\"text-align: right;\">\n      <th></th>\n      <th>Id</th>\n      <th>DistrictId</th>\n      <th>Rooms</th>\n      <th>Square</th>\n      <th>LifeSquare</th>\n      <th>KitchenSquare</th>\n      <th>Floor</th>\n      <th>HouseFloor</th>\n      <th>HouseYear</th>\n      <th>Ecology_1</th>\n      <th>Ecology_2</th>\n      <th>Ecology_3</th>\n      <th>Social_1</th>\n      <th>Social_2</th>\n      <th>Social_3</th>\n      <th>Healthcare_1</th>\n      <th>Helthcare_2</th>\n      <th>Shops_1</th>\n      <th>Shops_2</th>\n    </tr>\n  </thead>\n  <tbody>\n    <tr>\n      <th>4995</th>\n      <td>8180</td>\n      <td>11</td>\n      <td>3.0</td>\n      <td>67.133911</td>\n      <td>50.809797</td>\n      <td>6.0</td>\n      <td>5</td>\n      <td>9.0</td>\n      <td>1973</td>\n      <td>0.000170</td>\n      <td>B</td>\n      <td>B</td>\n      <td>36</td>\n      <td>5992</td>\n      <td>0</td>\n      <td>NaN</td>\n      <td>1</td>\n      <td>1</td>\n      <td>B</td>\n    </tr>\n    <tr>\n      <th>4996</th>\n      <td>4695</td>\n      <td>1</td>\n      <td>1.0</td>\n      <td>40.198472</td>\n      <td>21.807061</td>\n      <td>10.0</td>\n      <td>12</td>\n      <td>17.0</td>\n      <td>2017</td>\n      <td>0.007122</td>\n      <td>B</td>\n      <td>B</td>\n      <td>1</td>\n      <td>264</td>\n      <td>0</td>\n      <td>NaN</td>\n      <td>0</td>\n      <td>1</td>\n      <td>B</td>\n    </tr>\n    <tr>\n      <th>4997</th>\n      <td>5783</td>\n      <td>12</td>\n      <td>3.0</td>\n      <td>77.842178</td>\n      <td>48.282625</td>\n      <td>9.0</td>\n      <td>23</td>\n      <td>22.0</td>\n      <td>1989</td>\n      <td>0.090799</td>\n      <td>B</td>\n      <td>B</td>\n      <td>74</td>\n      <td>19083</td>\n      <td>2</td>\n      <td>NaN</td>\n      <td>5</td>\n      <td>15</td>\n      <td>B</td>\n    </tr>\n    <tr>\n      <th>4998</th>\n      <td>4780</td>\n      <td>62</td>\n      <td>2.0</td>\n      <td>81.305222</td>\n      <td>NaN</td>\n      <td>0.0</td>\n      <td>4</td>\n      <td>0.0</td>\n      <td>1977</td>\n      <td>0.072158</td>\n      <td>B</td>\n      <td>B</td>\n      <td>2</td>\n      <td>629</td>\n      <td>1</td>\n      <td>NaN</td>\n      <td>0</td>\n      <td>0</td>\n      <td>A</td>\n    </tr>\n    <tr>\n      <th>4999</th>\n      <td>12504</td>\n      <td>30</td>\n      <td>2.0</td>\n      <td>60.555693</td>\n      <td>NaN</td>\n      <td>1.0</td>\n      <td>10</td>\n      <td>17.0</td>\n      <td>1977</td>\n      <td>0.000078</td>\n      <td>B</td>\n      <td>B</td>\n      <td>22</td>\n      <td>6398</td>\n      <td>141</td>\n      <td>1046.0</td>\n      <td>3</td>\n      <td>23</td>\n      <td>B</td>\n    </tr>\n  </tbody>\n</table>\n</div>"
     },
     "execution_count": 129,
     "metadata": {},
     "output_type": "execute_result"
    }
   ],
   "source": [
    "test_df = pd.read_csv(TEST_DATASET_PATH)\n",
    "test_df.tail()"
   ],
   "metadata": {
    "collapsed": false,
    "pycharm": {
     "name": "#%%\n"
    }
   }
  },
  {
   "cell_type": "code",
   "execution_count": 130,
   "outputs": [
    {
     "data": {
      "text/plain": "Id                 int64\nDistrictId         int64\nRooms            float64\nSquare           float64\nLifeSquare       float64\nKitchenSquare    float64\nFloor              int64\nHouseFloor       float64\nHouseYear          int64\nEcology_1        float64\nEcology_2         object\nEcology_3         object\nSocial_1           int64\nSocial_2           int64\nSocial_3           int64\nHealthcare_1     float64\nHelthcare_2        int64\nShops_1            int64\nShops_2           object\ndtype: object"
     },
     "execution_count": 130,
     "metadata": {},
     "output_type": "execute_result"
    }
   ],
   "source": [
    "test_df.dtypes"
   ],
   "metadata": {
    "collapsed": false,
    "pycharm": {
     "name": "#%%\n"
    }
   }
  },
  {
   "cell_type": "code",
   "execution_count": 131,
   "outputs": [
    {
     "name": "stdout",
     "output_type": "stream",
     "text": [
      "Строк в трейне: 10000\n",
      "Строк в тесте 5000\n"
     ]
    }
   ],
   "source": [
    "print('Строк в трейне:', train_df.shape[0])\n",
    "print('Строк в тесте', test_df.shape[0])"
   ],
   "metadata": {
    "collapsed": false,
    "pycharm": {
     "name": "#%%\n"
    }
   }
  },
  {
   "cell_type": "code",
   "execution_count": 132,
   "outputs": [
    {
     "data": {
      "text/plain": "True"
     },
     "execution_count": 132,
     "metadata": {},
     "output_type": "execute_result"
    }
   ],
   "source": [
    "train_df.shape[1] - 1 == test_df.shape[1]"
   ],
   "metadata": {
    "collapsed": false,
    "pycharm": {
     "name": "#%%\n"
    }
   }
  },
  {
   "cell_type": "markdown",
   "source": [
    "### Приведение типов"
   ],
   "metadata": {
    "collapsed": false,
    "pycharm": {
     "name": "#%% md\n"
    }
   }
  },
  {
   "cell_type": "code",
   "execution_count": 133,
   "outputs": [
    {
     "data": {
      "text/plain": "Id                 int64\nDistrictId         int64\nRooms            float64\nSquare           float64\nLifeSquare       float64\nKitchenSquare    float64\nFloor              int64\nHouseFloor       float64\nHouseYear          int64\nEcology_1        float64\nEcology_2         object\nEcology_3         object\nSocial_1           int64\nSocial_2           int64\nSocial_3           int64\nHealthcare_1     float64\nHelthcare_2        int64\nShops_1            int64\nShops_2           object\nPrice            float64\ndtype: object"
     },
     "execution_count": 133,
     "metadata": {},
     "output_type": "execute_result"
    }
   ],
   "source": [
    "train_df.dtypes"
   ],
   "metadata": {
    "collapsed": false,
    "pycharm": {
     "name": "#%%\n"
    }
   }
  },
  {
   "cell_type": "code",
   "execution_count": 134,
   "outputs": [],
   "source": [
    "train_df['Id'] = train_df['Id'].astype(str)\n",
    "train_df['DistrictId'] = train_df['DistrictId'].astype(str)"
   ],
   "metadata": {
    "collapsed": false,
    "pycharm": {
     "name": "#%%\n"
    }
   }
  },
  {
   "cell_type": "markdown",
   "source": [
    "### EDA"
   ],
   "metadata": {
    "collapsed": false,
    "pycharm": {
     "name": "#%% md\n"
    }
   }
  },
  {
   "cell_type": "markdown",
   "source": [
    "##### Целевая переменная"
   ],
   "metadata": {
    "collapsed": false,
    "pycharm": {
     "name": "#%% md\n"
    }
   }
  },
  {
   "cell_type": "code",
   "execution_count": 135,
   "outputs": [
    {
     "data": {
      "text/plain": "<Figure size 1600x800 with 1 Axes>",
      "image/png": "[encoded data removed]"
     },
     "metadata": {},
     "output_type": "display_data"
    }
   ],
   "source": [
    "plt.figure(figsize = (16, 8))\n",
    "\n",
    "train_df['Price'].hist(bins=30)\n",
    "plt.ylabel('Count')\n",
    "plt.xlabel('Price')\n",
    "\n",
    "plt.title('Target distribution')\n",
    "plt.show()"
   ],
   "metadata": {
    "collapsed": false,
    "pycharm": {
     "name": "#%%\n"
    }
   }
  },
  {
   "cell_type": "markdown",
   "source": [
    "##### Количественные переменные"
   ],
   "metadata": {
    "collapsed": false,
    "pycharm": {
     "name": "#%% md\n"
    }
   }
  },
  {
   "cell_type": "code",
   "execution_count": 136,
   "outputs": [
    {
     "data": {
      "text/plain": "              Rooms        Square   LifeSquare  KitchenSquare         Floor  \\\ncount  10000.000000  10000.000000  7887.000000   10000.000000  10000.000000   \nmean       1.890500     56.315775    37.199645       6.273300      8.526700   \nstd        0.839512     21.058732    86.241209      28.560917      5.241148   \nmin        0.000000      1.136859     0.370619       0.000000      1.000000   \n25%        1.000000     41.774881    22.769832       1.000000      4.000000   \n50%        2.000000     52.513310    32.781260       6.000000      7.000000   \n75%        2.000000     65.900625    45.128803       9.000000     12.000000   \nmax       19.000000    641.065193  7480.592129    2014.000000     42.000000   \n\n         HouseFloor     HouseYear     Ecology_1      Social_1      Social_2  \\\ncount  10000.000000  1.000000e+04  10000.000000  10000.000000  10000.000000   \nmean      12.609400  3.990166e+03      0.118858     24.687000   5352.157400   \nstd        6.775974  2.005003e+05      0.119025     17.532614   4006.799803   \nmin        0.000000  1.910000e+03      0.000000      0.000000    168.000000   \n25%        9.000000  1.974000e+03      0.017647      6.000000   1564.000000   \n50%       13.000000  1.977000e+03      0.075424     25.000000   5285.000000   \n75%       17.000000  2.001000e+03      0.195781     36.000000   7227.000000   \nmax      117.000000  2.005201e+07      0.521867     74.000000  19083.000000   \n\n           Social_3  Healthcare_1   Helthcare_2       Shops_1          Price  \ncount  10000.000000   5202.000000  10000.000000  10000.000000   10000.000000  \nmean       8.039200   1142.904460      1.319500      4.231300  214138.857399  \nstd       23.831875   1021.517264      1.493601      4.806341   92872.293865  \nmin        0.000000      0.000000      0.000000      0.000000   59174.778028  \n25%        0.000000    350.000000      0.000000      1.000000  153872.633942  \n50%        2.000000    900.000000      1.000000      3.000000  192269.644879  \n75%        5.000000   1548.000000      2.000000      6.000000  249135.462171  \nmax      141.000000   4849.000000      6.000000     23.000000  633233.466570  ",
      "text/html": "<div>\n<style scoped>\n    .dataframe tbody tr th:only-of-type {\n        vertical-align: middle;\n    }\n\n    .dataframe tbody tr th {\n        vertical-align: top;\n    }\n\n    .dataframe thead th {\n        text-align: right;\n    }\n</style>\n<table border=\"1\" class=\"dataframe\">\n  <thead>\n    <tr style=\"text-align: right;\">\n      <th></th>\n      <th>Rooms</th>\n      <th>Square</th>\n      <th>LifeSquare</th>\n      <th>KitchenSquare</th>\n      <th>Floor</th>\n      <th>HouseFloor</th>\n      <th>HouseYear</th>\n      <th>Ecology_1</th>\n      <th>Social_1</th>\n      <th>Social_2</th>\n      <th>Social_3</th>\n      <th>Healthcare_1</th>\n      <th>Helthcare_2</th>\n      <th>Shops_1</th>\n      <th>Price</th>\n    </tr>\n  </thead>\n  <tbody>\n    <tr>\n      <th>count</th>\n      <td>10000.000000</td>\n      <td>10000.000000</td>\n      <td>7887.000000</td>\n      <td>10000.000000</td>\n      <td>10000.000000</td>\n      <td>10000.000000</td>\n      <td>1.000000e+04</td>\n      <td>10000.000000</td>\n      <td>10000.000000</td>\n      <td>10000.000000</td>\n      <td>10000.000000</td>\n      <td>5202.000000</td>\n      <td>10000.000000</td>\n      <td>10000.000000</td>\n      <td>10000.000000</td>\n    </tr>\n    <tr>\n      <th>mean</th>\n      <td>1.890500</td>\n      <td>56.315775</td>\n      <td>37.199645</td>\n      <td>6.273300</td>\n      <td>8.526700</td>\n      <td>12.609400</td>\n      <td>3.990166e+03</td>\n      <td>0.118858</td>\n      <td>24.687000</td>\n      <td>5352.157400</td>\n      <td>8.039200</td>\n      <td>1142.904460</td>\n      <td>1.319500</td>\n      <td>4.231300</td>\n      <td>214138.857399</td>\n    </tr>\n    <tr>\n      <th>std</th>\n      <td>0.839512</td>\n      <td>21.058732</td>\n      <td>86.241209</td>\n      <td>28.560917</td>\n      <td>5.241148</td>\n      <td>6.775974</td>\n      <td>2.005003e+05</td>\n      <td>0.119025</td>\n      <td>17.532614</td>\n      <td>4006.799803</td>\n      <td>23.831875</td>\n      <td>1021.517264</td>\n      <td>1.493601</td>\n      <td>4.806341</td>\n      <td>92872.293865</td>\n    </tr>\n    <tr>\n      <th>min</th>\n      <td>0.000000</td>\n      <td>1.136859</td>\n      <td>0.370619</td>\n      <td>0.000000</td>\n      <td>1.000000</td>\n      <td>0.000000</td>\n      <td>1.910000e+03</td>\n      <td>0.000000</td>\n      <td>0.000000</td>\n      <td>168.000000</td>\n      <td>0.000000</td>\n      <td>0.000000</td>\n      <td>0.000000</td>\n      <td>0.000000</td>\n      <td>59174.778028</td>\n    </tr>\n    <tr>\n      <th>25%</th>\n      <td>1.000000</td>\n      <td>41.774881</td>\n      <td>22.769832</td>\n      <td>1.000000</td>\n      <td>4.000000</td>\n      <td>9.000000</td>\n      <td>1.974000e+03</td>\n      <td>0.017647</td>\n      <td>6.000000</td>\n      <td>1564.000000</td>\n      <td>0.000000</td>\n      <td>350.000000</td>\n      <td>0.000000</td>\n      <td>1.000000</td>\n      <td>153872.633942</td>\n    </tr>\n    <tr>\n      <th>50%</th>\n      <td>2.000000</td>\n      <td>52.513310</td>\n      <td>32.781260</td>\n      <td>6.000000</td>\n      <td>7.000000</td>\n      <td>13.000000</td>\n      <td>1.977000e+03</td>\n      <td>0.075424</td>\n      <td>25.000000</td>\n      <td>5285.000000</td>\n      <td>2.000000</td>\n      <td>900.000000</td>\n      <td>1.000000</td>\n      <td>3.000000</td>\n      <td>192269.644879</td>\n    </tr>\n    <tr>\n      <th>75%</th>\n      <td>2.000000</td>\n      <td>65.900625</td>\n      <td>45.128803</td>\n      <td>9.000000</td>\n      <td>12.000000</td>\n      <td>17.000000</td>\n      <td>2.001000e+03</td>\n      <td>0.195781</td>\n      <td>36.000000</td>\n      <td>7227.000000</td>\n      <td>5.000000</td>\n      <td>1548.000000</td>\n      <td>2.000000</td>\n      <td>6.000000</td>\n      <td>249135.462171</td>\n    </tr>\n    <tr>\n      <th>max</th>\n      <td>19.000000</td>\n      <td>641.065193</td>\n      <td>7480.592129</td>\n      <td>2014.000000</td>\n      <td>42.000000</td>\n      <td>117.000000</td>\n      <td>2.005201e+07</td>\n      <td>0.521867</td>\n      <td>74.000000</td>\n      <td>19083.000000</td>\n      <td>141.000000</td>\n      <td>4849.000000</td>\n      <td>6.000000</td>\n      <td>23.000000</td>\n      <td>633233.466570</td>\n    </tr>\n  </tbody>\n</table>\n</div>"
     },
     "execution_count": 136,
     "metadata": {},
     "output_type": "execute_result"
    }
   ],
   "source": [
    "train_df.describe()"
   ],
   "metadata": {
    "collapsed": false,
    "pycharm": {
     "name": "#%%\n"
    }
   }
  },
  {
   "cell_type": "markdown",
   "source": [
    "##### Номинативные переменные"
   ],
   "metadata": {
    "collapsed": false,
    "pycharm": {
     "name": "#%% md\n"
    }
   }
  },
  {
   "cell_type": "code",
   "execution_count": 137,
   "outputs": [
    {
     "data": {
      "text/plain": "['Id', 'DistrictId', 'Ecology_2', 'Ecology_3', 'Shops_2']"
     },
     "execution_count": 137,
     "metadata": {},
     "output_type": "execute_result"
    }
   ],
   "source": [
    "train_df.select_dtypes(include='object').columns.tolist()"
   ],
   "metadata": {
    "collapsed": false,
    "pycharm": {
     "name": "#%%\n"
    }
   }
  },
  {
   "cell_type": "code",
   "execution_count": 138,
   "outputs": [
    {
     "data": {
      "text/plain": "27     851\n1      652\n23     565\n6      511\n9      294\n      ... \n207      1\n117      1\n174      1\n205      1\n209      1\nName: DistrictId, Length: 205, dtype: int64"
     },
     "execution_count": 138,
     "metadata": {},
     "output_type": "execute_result"
    }
   ],
   "source": [
    "train_df['DistrictId'].value_counts()"
   ],
   "metadata": {
    "collapsed": false,
    "pycharm": {
     "name": "#%%\n"
    }
   }
  },
  {
   "cell_type": "code",
   "execution_count": 139,
   "outputs": [
    {
     "data": {
      "text/plain": "B    9903\nA      97\nName: Ecology_2, dtype: int64"
     },
     "execution_count": 139,
     "metadata": {},
     "output_type": "execute_result"
    }
   ],
   "source": [
    "train_df['Ecology_2'].value_counts()"
   ],
   "metadata": {
    "collapsed": false,
    "pycharm": {
     "name": "#%%\n"
    }
   }
  },
  {
   "cell_type": "code",
   "execution_count": 140,
   "outputs": [
    {
     "data": {
      "text/plain": "B    9725\nA     275\nName: Ecology_3, dtype: int64"
     },
     "execution_count": 140,
     "metadata": {},
     "output_type": "execute_result"
    }
   ],
   "source": [
    "train_df['Ecology_3'].value_counts()"
   ],
   "metadata": {
    "collapsed": false,
    "pycharm": {
     "name": "#%%\n"
    }
   }
  },
  {
   "cell_type": "code",
   "execution_count": 141,
   "outputs": [
    {
     "data": {
      "text/plain": "B    9175\nA     825\nName: Shops_2, dtype: int64"
     },
     "execution_count": 141,
     "metadata": {},
     "output_type": "execute_result"
    }
   ],
   "source": [
    "train_df['Shops_2'].value_counts()"
   ],
   "metadata": {
    "collapsed": false,
    "pycharm": {
     "name": "#%%\n"
    }
   }
  },
  {
   "cell_type": "markdown",
   "source": [
    "### Обработка выбросов"
   ],
   "metadata": {
    "collapsed": false,
    "pycharm": {
     "name": "#%% md\n"
    }
   }
  },
  {
   "cell_type": "markdown",
   "source": [
    "##### Rooms"
   ],
   "metadata": {
    "collapsed": false,
    "pycharm": {
     "name": "#%% md\n"
    }
   }
  },
  {
   "cell_type": "code",
   "execution_count": 142,
   "outputs": [
    {
     "data": {
      "text/plain": "2.0     3880\n1.0     3705\n3.0     2235\n4.0      150\n5.0       18\n0.0        8\n10.0       2\n19.0       1\n6.0        1\nName: Rooms, dtype: int64"
     },
     "execution_count": 142,
     "metadata": {},
     "output_type": "execute_result"
    }
   ],
   "source": [
    "train_df['Rooms'].value_counts()"
   ],
   "metadata": {
    "collapsed": false,
    "pycharm": {
     "name": "#%%\n"
    }
   }
  },
  {
   "cell_type": "code",
   "execution_count": 143,
   "outputs": [
    {
     "data": {
      "text/plain": "      Id DistrictId  Rooms     Square  LifeSquare  KitchenSquare  Floor  \\\n0  14038         35    2.0  47.981561   29.442751            6.0      7   \n1  15053         41    3.0  65.683640   40.049543            8.0      7   \n2   4765         53    2.0  44.947953   29.197612            0.0      8   \n3   5809         58    2.0  53.352981   52.731512            9.0      8   \n4  10783         99    1.0  39.649192   23.776169            7.0     11   \n\n   HouseFloor  HouseYear  Ecology_1  ... Ecology_3 Social_1  Social_2  \\\n0         9.0       1969   0.089040  ...         B       33      7976   \n1         9.0       1978   0.000070  ...         B       46     10309   \n2        12.0       1968   0.049637  ...         B       34      7759   \n3        17.0       1977   0.437885  ...         B       23      5735   \n4        12.0       1976   0.012339  ...         B       35      5776   \n\n   Social_3  Healthcare_1  Helthcare_2  Shops_1  Shops_2          Price  \\\n0         5           NaN            0       11        B  184966.930730   \n1         1         240.0            1       16        B  300009.450063   \n2         0         229.0            1        3        B  220925.908524   \n3         3        1084.0            0        5        B  175616.227217   \n4         1        2078.0            2        4        B  150226.531644   \n\n   Rooms_outlier  \n0              0  \n1              0  \n2              0  \n3              0  \n4              0  \n\n[5 rows x 21 columns]",
      "text/html": "<div>\n<style scoped>\n    .dataframe tbody tr th:only-of-type {\n        vertical-align: middle;\n    }\n\n    .dataframe tbody tr th {\n        vertical-align: top;\n    }\n\n    .dataframe thead th {\n        text-align: right;\n    }\n</style>\n<table border=\"1\" class=\"dataframe\">\n  <thead>\n    <tr style=\"text-align: right;\">\n      <th></th>\n      <th>Id</th>\n      <th>DistrictId</th>\n      <th>Rooms</th>\n      <th>Square</th>\n      <th>LifeSquare</th>\n      <th>KitchenSquare</th>\n      <th>Floor</th>\n      <th>HouseFloor</th>\n      <th>HouseYear</th>\n      <th>Ecology_1</th>\n      <th>...</th>\n      <th>Ecology_3</th>\n      <th>Social_1</th>\n      <th>Social_2</th>\n      <th>Social_3</th>\n      <th>Healthcare_1</th>\n      <th>Helthcare_2</th>\n      <th>Shops_1</th>\n      <th>Shops_2</th>\n      <th>Price</th>\n      <th>Rooms_outlier</th>\n    </tr>\n  </thead>\n  <tbody>\n    <tr>\n      <th>0</th>\n      <td>14038</td>\n      <td>35</td>\n      <td>2.0</td>\n      <td>47.981561</td>\n      <td>29.442751</td>\n      <td>6.0</td>\n      <td>7</td>\n      <td>9.0</td>\n      <td>1969</td>\n      <td>0.089040</td>\n      <td>...</td>\n      <td>B</td>\n      <td>33</td>\n      <td>7976</td>\n      <td>5</td>\n      <td>NaN</td>\n      <td>0</td>\n      <td>11</td>\n      <td>B</td>\n      <td>184966.930730</td>\n      <td>0</td>\n    </tr>\n    <tr>\n      <th>1</th>\n      <td>15053</td>\n      <td>41</td>\n      <td>3.0</td>\n      <td>65.683640</td>\n      <td>40.049543</td>\n      <td>8.0</td>\n      <td>7</td>\n      <td>9.0</td>\n      <td>1978</td>\n      <td>0.000070</td>\n      <td>...</td>\n      <td>B</td>\n      <td>46</td>\n      <td>10309</td>\n      <td>1</td>\n      <td>240.0</td>\n      <td>1</td>\n      <td>16</td>\n      <td>B</td>\n      <td>300009.450063</td>\n      <td>0</td>\n    </tr>\n    <tr>\n      <th>2</th>\n      <td>4765</td>\n      <td>53</td>\n      <td>2.0</td>\n      <td>44.947953</td>\n      <td>29.197612</td>\n      <td>0.0</td>\n      <td>8</td>\n      <td>12.0</td>\n      <td>1968</td>\n      <td>0.049637</td>\n      <td>...</td>\n      <td>B</td>\n      <td>34</td>\n      <td>7759</td>\n      <td>0</td>\n      <td>229.0</td>\n      <td>1</td>\n      <td>3</td>\n      <td>B</td>\n      <td>220925.908524</td>\n      <td>0</td>\n    </tr>\n    <tr>\n      <th>3</th>\n      <td>5809</td>\n      <td>58</td>\n      <td>2.0</td>\n      <td>53.352981</td>\n      <td>52.731512</td>\n      <td>9.0</td>\n      <td>8</td>\n      <td>17.0</td>\n      <td>1977</td>\n      <td>0.437885</td>\n      <td>...</td>\n      <td>B</td>\n      <td>23</td>\n      <td>5735</td>\n      <td>3</td>\n      <td>1084.0</td>\n      <td>0</td>\n      <td>5</td>\n      <td>B</td>\n      <td>175616.227217</td>\n      <td>0</td>\n    </tr>\n    <tr>\n      <th>4</th>\n      <td>10783</td>\n      <td>99</td>\n      <td>1.0</td>\n      <td>39.649192</td>\n      <td>23.776169</td>\n      <td>7.0</td>\n      <td>11</td>\n      <td>12.0</td>\n      <td>1976</td>\n      <td>0.012339</td>\n      <td>...</td>\n      <td>B</td>\n      <td>35</td>\n      <td>5776</td>\n      <td>1</td>\n      <td>2078.0</td>\n      <td>2</td>\n      <td>4</td>\n      <td>B</td>\n      <td>150226.531644</td>\n      <td>0</td>\n    </tr>\n  </tbody>\n</table>\n<p>5 rows × 21 columns</p>\n</div>"
     },
     "execution_count": 143,
     "metadata": {},
     "output_type": "execute_result"
    }
   ],
   "source": [
    "train_df['Rooms_outlier'] = 0\n",
    "train_df.loc[(train_df['Rooms'] == 0) | (train_df['Rooms'] >= 6), 'Rooms_outlier'] = 1\n",
    "train_df.head()"
   ],
   "metadata": {
    "collapsed": false,
    "pycharm": {
     "name": "#%%\n"
    }
   }
  },
  {
   "cell_type": "code",
   "execution_count": 144,
   "outputs": [],
   "source": [
    "train_df.loc[train_df['Rooms'] == 0, 'Rooms'] = 1\n",
    "train_df.loc[train_df['Rooms'] >= 6, 'Rooms'] = train_df['Rooms'].median()"
   ],
   "metadata": {
    "collapsed": false,
    "pycharm": {
     "name": "#%%\n"
    }
   }
  },
  {
   "cell_type": "code",
   "execution_count": 145,
   "outputs": [
    {
     "data": {
      "text/plain": "2.0    3884\n1.0    3713\n3.0    2235\n4.0     150\n5.0      18\nName: Rooms, dtype: int64"
     },
     "execution_count": 145,
     "metadata": {},
     "output_type": "execute_result"
    }
   ],
   "source": [
    "train_df['Rooms'].value_counts()"
   ],
   "metadata": {
    "collapsed": false,
    "pycharm": {
     "name": "#%%\n"
    }
   }
  },
  {
   "cell_type": "markdown",
   "source": [
    "##### KitchenSquare"
   ],
   "metadata": {
    "collapsed": false,
    "pycharm": {
     "name": "#%% md\n"
    }
   }
  },
  {
   "cell_type": "code",
   "execution_count": 146,
   "outputs": [
    {
     "data": {
      "text/plain": "1.0       2460\n8.0       1306\n5.0       1169\n10.0      1075\n6.0       1038\n9.0        843\n0.0        697\n7.0        609\n12.0       249\n11.0       233\n13.0        67\n14.0        51\n4.0         39\n15.0        31\n3.0         22\n16.0        16\n20.0        14\n17.0        12\n19.0        11\n18.0         6\n2.0          4\n22.0         3\n32.0         2\n41.0         2\n51.0         2\n30.0         2\n112.0        2\n37.0         2\n43.0         2\n25.0         2\n58.0         2\n84.0         1\n75.0         1\n21.0         1\n54.0         1\n62.0         1\n40.0         1\n29.0         1\n1970.0       1\n27.0         1\n39.0         1\n35.0         1\n23.0         1\n73.0         1\n31.0         1\n60.0         1\n63.0         1\n42.0         1\n36.0         1\n96.0         1\n26.0         1\n53.0         1\n78.0         1\n66.0         1\n2014.0       1\n48.0         1\n72.0         1\n123.0        1\nName: KitchenSquare, dtype: int64"
     },
     "execution_count": 146,
     "metadata": {},
     "output_type": "execute_result"
    }
   ],
   "source": [
    "train_df['KitchenSquare'].value_counts()"
   ],
   "metadata": {
    "collapsed": false,
    "pycharm": {
     "name": "#%%\n"
    }
   }
  },
  {
   "cell_type": "code",
   "execution_count": 147,
   "outputs": [
    {
     "data": {
      "text/plain": "(13.0, 0.0)"
     },
     "execution_count": 147,
     "metadata": {},
     "output_type": "execute_result"
    }
   ],
   "source": [
    "train_df['KitchenSquare'].quantile(.975), train_df['KitchenSquare'].quantile(.025)"
   ],
   "metadata": {
    "collapsed": false,
    "pycharm": {
     "name": "#%%\n"
    }
   }
  },
  {
   "cell_type": "code",
   "execution_count": 148,
   "outputs": [],
   "source": [
    "condition = (train_df['KitchenSquare'].isna()) | (train_df['KitchenSquare'] > train_df['KitchenSquare'].quantile(.975))\n",
    "\n",
    "train_df.loc[condition, 'KitchenSquare'] = train_df['KitchenSquare'].median()\n",
    "\n",
    "train_df.loc[train_df['KitchenSquare'] < 3, 'KitchenSquare'] = 3"
   ],
   "metadata": {
    "collapsed": false,
    "pycharm": {
     "name": "#%%\n"
    }
   }
  },
  {
   "cell_type": "code",
   "execution_count": 149,
   "outputs": [
    {
     "data": {
      "text/plain": "3.0     3183\n8.0     1306\n6.0     1227\n5.0     1169\n10.0    1075\n9.0      843\n7.0      609\n12.0     249\n11.0     233\n13.0      67\n4.0       39\nName: KitchenSquare, dtype: int64"
     },
     "execution_count": 149,
     "metadata": {},
     "output_type": "execute_result"
    }
   ],
   "source": [
    "train_df['KitchenSquare'].value_counts()"
   ],
   "metadata": {
    "collapsed": false,
    "pycharm": {
     "name": "#%%\n"
    }
   }
  },
  {
   "cell_type": "markdown",
   "source": [
    "##### HouseFloor, Floor"
   ],
   "metadata": {
    "collapsed": false,
    "pycharm": {
     "name": "#%% md\n"
    }
   }
  },
  {
   "cell_type": "code",
   "execution_count": 150,
   "outputs": [
    {
     "data": {
      "text/plain": "array([  0.,   1.,   2.,   3.,   4.,   5.,   6.,   7.,   8.,   9.,  10.,\n        11.,  12.,  13.,  14.,  15.,  16.,  17.,  18.,  19.,  20.,  21.,\n        22.,  23.,  24.,  25.,  26.,  27.,  28.,  29.,  30.,  31.,  32.,\n        36.,  37.,  38.,  39.,  40.,  44.,  45.,  47.,  48.,  99., 117.])"
     },
     "execution_count": 150,
     "metadata": {},
     "output_type": "execute_result"
    }
   ],
   "source": [
    "train_df['HouseFloor'].sort_values().unique()"
   ],
   "metadata": {
    "collapsed": false,
    "pycharm": {
     "name": "#%%\n"
    }
   }
  },
  {
   "cell_type": "code",
   "execution_count": 151,
   "outputs": [
    {
     "data": {
      "text/plain": "array([ 1,  2,  3,  4,  5,  6,  7,  8,  9, 10, 11, 12, 13, 14, 15, 16, 17,\n       18, 19, 20, 21, 22, 23, 24, 25, 26, 27, 28, 31, 32, 33, 37, 42],\n      dtype=int64)"
     },
     "execution_count": 151,
     "metadata": {},
     "output_type": "execute_result"
    }
   ],
   "source": [
    "train_df['Floor'].sort_values().unique()"
   ],
   "metadata": {
    "collapsed": false,
    "pycharm": {
     "name": "#%%\n"
    }
   }
  },
  {
   "cell_type": "code",
   "execution_count": 152,
   "outputs": [
    {
     "data": {
      "text/plain": "1825"
     },
     "execution_count": 152,
     "metadata": {},
     "output_type": "execute_result"
    }
   ],
   "source": [
    "(train_df['Floor'] > train_df['HouseFloor']).sum()"
   ],
   "metadata": {
    "collapsed": false,
    "pycharm": {
     "name": "#%%\n"
    }
   }
  },
  {
   "cell_type": "code",
   "execution_count": 153,
   "outputs": [],
   "source": [
    "train_df['HouseFloor_outlier'] = 0\n",
    "train_df.loc[train_df['HouseFloor'] == 0, 'HouseFloor_outlier'] = 1\n",
    "train_df.loc[train_df['Floor'] > train_df['HouseFloor'], 'HouseFloor_outlier'] = 1"
   ],
   "metadata": {
    "collapsed": false,
    "pycharm": {
     "name": "#%%\n"
    }
   }
  },
  {
   "cell_type": "code",
   "execution_count": 154,
   "outputs": [],
   "source": [
    "train_df.loc[train_df['HouseFloor'] == 0, 'HouseFloor'] = train_df['HouseFloor'].median()"
   ],
   "metadata": {
    "collapsed": false,
    "pycharm": {
     "name": "#%%\n"
    }
   }
  },
  {
   "cell_type": "code",
   "execution_count": 155,
   "outputs": [
    {
     "data": {
      "text/plain": "Int64Index([   7,   14,   16,   21,   26,   35,   39,   44,   51,   67,\n            ...\n            9959, 9962, 9971, 9973, 9975, 9984, 9985, 9989, 9991, 9995],\n           dtype='int64', length=1610)"
     },
     "execution_count": 155,
     "metadata": {},
     "output_type": "execute_result"
    }
   ],
   "source": [
    "floor_outliers = train_df.loc[train_df['Floor'] > train_df['HouseFloor']].index\n",
    "floor_outliers"
   ],
   "metadata": {
    "collapsed": false,
    "pycharm": {
     "name": "#%%\n"
    }
   }
  },
  {
   "cell_type": "code",
   "execution_count": 156,
   "outputs": [],
   "source": [
    "train_df.loc[floor_outliers, 'Floor'] = train_df.loc[floor_outliers, 'HouseFloor']\\\n",
    "                                                .apply(lambda x: random.randint(1, x))"
   ],
   "metadata": {
    "collapsed": false,
    "pycharm": {
     "name": "#%%\n"
    }
   }
  },
  {
   "cell_type": "code",
   "execution_count": 157,
   "outputs": [
    {
     "data": {
      "text/plain": "0"
     },
     "execution_count": 157,
     "metadata": {},
     "output_type": "execute_result"
    }
   ],
   "source": [
    "(train_df['Floor'] > train_df['HouseFloor']).sum()"
   ],
   "metadata": {
    "collapsed": false,
    "pycharm": {
     "name": "#%%\n"
    }
   }
  },
  {
   "cell_type": "markdown",
   "source": [
    "##### HouseYear"
   ],
   "metadata": {
    "collapsed": false,
    "pycharm": {
     "name": "#%% md\n"
    }
   }
  },
  {
   "cell_type": "code",
   "execution_count": 158,
   "outputs": [
    {
     "data": {
      "text/plain": "1497    20052011\n4189        4968\n5701        2020\n2493        2020\n1499        2020\n          ...   \n7611        1916\n910         1914\n2656        1912\n5111        1912\n9317        1910\nName: HouseYear, Length: 10000, dtype: int64"
     },
     "execution_count": 158,
     "metadata": {},
     "output_type": "execute_result"
    }
   ],
   "source": [
    "train_df['HouseYear'].sort_values(ascending=False)"
   ],
   "metadata": {
    "collapsed": false,
    "pycharm": {
     "name": "#%%\n"
    }
   }
  },
  {
   "cell_type": "code",
   "execution_count": 159,
   "outputs": [],
   "source": [
    "train_df.loc[train_df['HouseYear'] > 2020, 'HouseYear'] = 2020"
   ],
   "metadata": {
    "collapsed": false,
    "pycharm": {
     "name": "#%%\n"
    }
   }
  },
  {
   "cell_type": "markdown",
   "source": [
    "### Обработка пропусков"
   ],
   "metadata": {
    "collapsed": false,
    "pycharm": {
     "name": "#%% md\n"
    }
   }
  },
  {
   "cell_type": "code",
   "execution_count": 160,
   "outputs": [
    {
     "data": {
      "text/plain": "Id                       0\nDistrictId               0\nRooms                    0\nSquare                   0\nLifeSquare            2113\nKitchenSquare            0\nFloor                    0\nHouseFloor               0\nHouseYear                0\nEcology_1                0\nEcology_2                0\nEcology_3                0\nSocial_1                 0\nSocial_2                 0\nSocial_3                 0\nHealthcare_1          4798\nHelthcare_2              0\nShops_1                  0\nShops_2                  0\nPrice                    0\nRooms_outlier            0\nHouseFloor_outlier       0\ndtype: int64"
     },
     "execution_count": 160,
     "metadata": {},
     "output_type": "execute_result"
    }
   ],
   "source": [
    "train_df.isna().sum()"
   ],
   "metadata": {
    "collapsed": false,
    "pycharm": {
     "name": "#%%\n"
    }
   }
  },
  {
   "cell_type": "code",
   "execution_count": 161,
   "outputs": [
    {
     "data": {
      "text/plain": "      Square  LifeSquare  KitchenSquare\n0  47.981561   29.442751            6.0\n1  65.683640   40.049543            8.0\n2  44.947953   29.197612            3.0\n3  53.352981   52.731512            9.0\n4  39.649192   23.776169            7.0\n5  80.384479   46.683720           12.0\n6  62.254114   37.160377            7.0\n7  80.312926         NaN            3.0\n8  64.511437         NaN            3.0\n9  46.461409   18.915552            8.0",
      "text/html": "<div>\n<style scoped>\n    .dataframe tbody tr th:only-of-type {\n        vertical-align: middle;\n    }\n\n    .dataframe tbody tr th {\n        vertical-align: top;\n    }\n\n    .dataframe thead th {\n        text-align: right;\n    }\n</style>\n<table border=\"1\" class=\"dataframe\">\n  <thead>\n    <tr style=\"text-align: right;\">\n      <th></th>\n      <th>Square</th>\n      <th>LifeSquare</th>\n      <th>KitchenSquare</th>\n    </tr>\n  </thead>\n  <tbody>\n    <tr>\n      <th>0</th>\n      <td>47.981561</td>\n      <td>29.442751</td>\n      <td>6.0</td>\n    </tr>\n    <tr>\n      <th>1</th>\n      <td>65.683640</td>\n      <td>40.049543</td>\n      <td>8.0</td>\n    </tr>\n    <tr>\n      <th>2</th>\n      <td>44.947953</td>\n      <td>29.197612</td>\n      <td>3.0</td>\n    </tr>\n    <tr>\n      <th>3</th>\n      <td>53.352981</td>\n      <td>52.731512</td>\n      <td>9.0</td>\n    </tr>\n    <tr>\n      <th>4</th>\n      <td>39.649192</td>\n      <td>23.776169</td>\n      <td>7.0</td>\n    </tr>\n    <tr>\n      <th>5</th>\n      <td>80.384479</td>\n      <td>46.683720</td>\n      <td>12.0</td>\n    </tr>\n    <tr>\n      <th>6</th>\n      <td>62.254114</td>\n      <td>37.160377</td>\n      <td>7.0</td>\n    </tr>\n    <tr>\n      <th>7</th>\n      <td>80.312926</td>\n      <td>NaN</td>\n      <td>3.0</td>\n    </tr>\n    <tr>\n      <th>8</th>\n      <td>64.511437</td>\n      <td>NaN</td>\n      <td>3.0</td>\n    </tr>\n    <tr>\n      <th>9</th>\n      <td>46.461409</td>\n      <td>18.915552</td>\n      <td>8.0</td>\n    </tr>\n  </tbody>\n</table>\n</div>"
     },
     "execution_count": 161,
     "metadata": {},
     "output_type": "execute_result"
    }
   ],
   "source": [
    "train_df[['Square', 'LifeSquare', 'KitchenSquare']].head(10)"
   ],
   "metadata": {
    "collapsed": false,
    "pycharm": {
     "name": "#%%\n"
    }
   }
  },
  {
   "cell_type": "markdown",
   "source": [
    "##### LifeSquare"
   ],
   "metadata": {
    "collapsed": false,
    "pycharm": {
     "name": "#%% md\n"
    }
   }
  },
  {
   "cell_type": "code",
   "execution_count": 162,
   "outputs": [],
   "source": [
    "train_df['LifeSquare_nan'] = train_df['LifeSquare'].isna() * 1\n",
    "\n",
    "condition = (train_df['LifeSquare'].isna()) \\\n",
    "             & (~train_df['Square'].isna()) \\\n",
    "             & (~train_df['KitchenSquare'].isna())\n",
    "\n",
    "train_df.loc[condition, 'LifeSquare'] = train_df.loc[condition, 'Square'] \\\n",
    "                                            - train_df.loc[condition, 'KitchenSquare'] - 3"
   ],
   "metadata": {
    "collapsed": false,
    "pycharm": {
     "name": "#%%\n"
    }
   }
  },
  {
   "cell_type": "markdown",
   "source": [
    "##### HealthCare"
   ],
   "metadata": {
    "collapsed": false,
    "pycharm": {
     "name": "#%% md\n"
    }
   }
  },
  {
   "cell_type": "code",
   "execution_count": 163,
   "outputs": [],
   "source": [
    "train_df.drop('Healthcare_1', axis=1, inplace=True)"
   ],
   "metadata": {
    "collapsed": false,
    "pycharm": {
     "name": "#%%\n"
    }
   }
  },
  {
   "cell_type": "code",
   "execution_count": 164,
   "outputs": [],
   "source": [
    "class DataPreprocessing:\n",
    "    \"\"\"Подготовка исходных данных\"\"\"\n",
    "\n",
    "    def __init__(self):\n",
    "        \"\"\"Параметры класса\"\"\"\n",
    "        self.medians = None\n",
    "        self.kitchen_square_quantile = None\n",
    "\n",
    "    def fit(self, X):\n",
    "        \"\"\"Сохранение статистик\"\"\"\n",
    "        # Расчет медиан\n",
    "        self.medians = X.median()\n",
    "        self.kitchen_square_quantile = X['KitchenSquare'].quantile(.975)\n",
    "\n",
    "    def transform(self, X):\n",
    "        \"\"\"Трансформация данных\"\"\"\n",
    "\n",
    "        # Rooms\n",
    "        X['Rooms_outlier'] = 0\n",
    "        X.loc[(X['Rooms'] == 0) | (X['Rooms'] >= 6), 'Rooms_outlier'] = 1\n",
    "\n",
    "        X.loc[X['Rooms'] == 0, 'Rooms'] = 1\n",
    "        X.loc[X['Rooms'] >= 6, 'Rooms'] = self.medians['Rooms']\n",
    "\n",
    "        # KitchenSquare\n",
    "        condition = (X['KitchenSquare'].isna()) \\\n",
    "                    | (X['KitchenSquare'] > self.kitchen_square_quantile)\n",
    "\n",
    "        X.loc[condition, 'KitchenSquare'] = self.medians['KitchenSquare']\n",
    "\n",
    "        X.loc[X['KitchenSquare'] < 3, 'KitchenSquare'] = 3\n",
    "\n",
    "        # HouseFloor, Floor\n",
    "        X['HouseFloor_outlier'] = 0\n",
    "        X.loc[X['HouseFloor'] == 0, 'HouseFloor_outlier'] = 1\n",
    "        X.loc[X['Floor'] > X['HouseFloor'], 'HouseFloor_outlier'] = 1\n",
    "\n",
    "        X.loc[X['HouseFloor'] == 0, 'HouseFloor'] = self.medians['HouseFloor']\n",
    "\n",
    "        floor_outliers = X.loc[X['Floor'] > X['HouseFloor']].index\n",
    "        X.loc[floor_outliers, 'Floor'] = X.loc[floor_outliers, 'HouseFloor']\\\n",
    "                                            .apply(lambda x: random.randint(1, x))\n",
    "\n",
    "        # HouseYear\n",
    "        current_year = datetime.now().year\n",
    "\n",
    "        X['HouseYear_outlier'] = 0\n",
    "        X.loc[X['HouseYear'] > current_year, 'HouseYear_outlier'] = 1\n",
    "\n",
    "        X.loc[X['HouseYear'] > current_year, 'HouseYear'] = current_year\n",
    "\n",
    "        # Healthcare_1\n",
    "        if 'Healthcare_1' in X.columns:\n",
    "            X.drop('Healthcare_1', axis=1, inplace=True)\n",
    "\n",
    "        # LifeSquare\n",
    "        X['LifeSquare_nan'] = X['LifeSquare'].isna() * 1\n",
    "        condition = (X['LifeSquare'].isna()) & \\\n",
    "                      (~X['Square'].isna()) & \\\n",
    "                      (~X['KitchenSquare'].isna())\n",
    "\n",
    "        X.loc[condition, 'LifeSquare'] = X.loc[condition, 'Square'] - X.loc[condition, 'KitchenSquare'] - 3\n",
    "\n",
    "\n",
    "        X.fillna(self.medians, inplace=True)\n",
    "\n",
    "        return X"
   ],
   "metadata": {
    "collapsed": false,
    "pycharm": {
     "name": "#%%\n"
    }
   }
  },
  {
   "cell_type": "markdown",
   "source": [
    "### Построение новых признаков"
   ],
   "metadata": {
    "collapsed": false,
    "pycharm": {
     "name": "#%% md\n"
    }
   }
  },
  {
   "cell_type": "markdown",
   "source": [
    "##### Dummies"
   ],
   "metadata": {
    "collapsed": false,
    "pycharm": {
     "name": "#%% md\n"
    }
   }
  },
  {
   "cell_type": "code",
   "execution_count": 165,
   "outputs": [],
   "source": [
    "binary_to_numbers = {'A': 0, 'B': 1}\n",
    "\n",
    "train_df['Ecology_2'] = train_df['Ecology_2'].replace(binary_to_numbers)\n",
    "train_df['Ecology_3'] = train_df['Ecology_3'].replace(binary_to_numbers)\n",
    "train_df['Shops_2'] = train_df['Shops_2'].replace(binary_to_numbers)"
   ],
   "metadata": {
    "collapsed": false,
    "pycharm": {
     "name": "#%%\n"
    }
   }
  },
  {
   "cell_type": "markdown",
   "source": [
    "##### DistrictSize, IsDistrictLarge"
   ],
   "metadata": {
    "collapsed": false,
    "pycharm": {
     "name": "#%% md\n"
    }
   }
  },
  {
   "cell_type": "code",
   "execution_count": 166,
   "outputs": [
    {
     "data": {
      "text/plain": "  DistrictId  DistrictSize\n0         27           851\n1          1           652\n2         23           565\n3          6           511\n4          9           294",
      "text/html": "<div>\n<style scoped>\n    .dataframe tbody tr th:only-of-type {\n        vertical-align: middle;\n    }\n\n    .dataframe tbody tr th {\n        vertical-align: top;\n    }\n\n    .dataframe thead th {\n        text-align: right;\n    }\n</style>\n<table border=\"1\" class=\"dataframe\">\n  <thead>\n    <tr style=\"text-align: right;\">\n      <th></th>\n      <th>DistrictId</th>\n      <th>DistrictSize</th>\n    </tr>\n  </thead>\n  <tbody>\n    <tr>\n      <th>0</th>\n      <td>27</td>\n      <td>851</td>\n    </tr>\n    <tr>\n      <th>1</th>\n      <td>1</td>\n      <td>652</td>\n    </tr>\n    <tr>\n      <th>2</th>\n      <td>23</td>\n      <td>565</td>\n    </tr>\n    <tr>\n      <th>3</th>\n      <td>6</td>\n      <td>511</td>\n    </tr>\n    <tr>\n      <th>4</th>\n      <td>9</td>\n      <td>294</td>\n    </tr>\n  </tbody>\n</table>\n</div>"
     },
     "execution_count": 166,
     "metadata": {},
     "output_type": "execute_result"
    }
   ],
   "source": [
    "district_size = train_df['DistrictId'].value_counts().reset_index()\\\n",
    "                    .rename(columns={'index':'DistrictId', 'DistrictId':'DistrictSize'})\n",
    "\n",
    "district_size.head()"
   ],
   "metadata": {
    "collapsed": false,
    "pycharm": {
     "name": "#%%\n"
    }
   }
  },
  {
   "cell_type": "code",
   "execution_count": 167,
   "outputs": [
    {
     "data": {
      "text/plain": "      Id DistrictId  Rooms     Square  LifeSquare  KitchenSquare  Floor  \\\n0  14038         35    2.0  47.981561   29.442751            6.0      7   \n1  15053         41    3.0  65.683640   40.049543            8.0      7   \n2   4765         53    2.0  44.947953   29.197612            3.0      8   \n3   5809         58    2.0  53.352981   52.731512            9.0      8   \n4  10783         99    1.0  39.649192   23.776169            7.0     11   \n\n   HouseFloor  HouseYear  Ecology_1  ...  Social_2  Social_3  Helthcare_2  \\\n0         9.0       1969   0.089040  ...      7976         5            0   \n1         9.0       1978   0.000070  ...     10309         1            1   \n2        12.0       1968   0.049637  ...      7759         0            1   \n3        17.0       1977   0.437885  ...      5735         3            0   \n4        12.0       1976   0.012339  ...      5776         1            2   \n\n   Shops_1  Shops_2          Price  Rooms_outlier  HouseFloor_outlier  \\\n0       11        1  184966.930730              0                   0   \n1       16        1  300009.450063              0                   0   \n2        3        1  220925.908524              0                   0   \n3        5        1  175616.227217              0                   0   \n4        4        1  150226.531644              0                   0   \n\n   LifeSquare_nan  DistrictSize  \n0               0            22  \n1               0            87  \n2               0           174  \n3               0           179  \n4               0            97  \n\n[5 rows x 23 columns]",
      "text/html": "<div>\n<style scoped>\n    .dataframe tbody tr th:only-of-type {\n        vertical-align: middle;\n    }\n\n    .dataframe tbody tr th {\n        vertical-align: top;\n    }\n\n    .dataframe thead th {\n        text-align: right;\n    }\n</style>\n<table border=\"1\" class=\"dataframe\">\n  <thead>\n    <tr style=\"text-align: right;\">\n      <th></th>\n      <th>Id</th>\n      <th>DistrictId</th>\n      <th>Rooms</th>\n      <th>Square</th>\n      <th>LifeSquare</th>\n      <th>KitchenSquare</th>\n      <th>Floor</th>\n      <th>HouseFloor</th>\n      <th>HouseYear</th>\n      <th>Ecology_1</th>\n      <th>...</th>\n      <th>Social_2</th>\n      <th>Social_3</th>\n      <th>Helthcare_2</th>\n      <th>Shops_1</th>\n      <th>Shops_2</th>\n      <th>Price</th>\n      <th>Rooms_outlier</th>\n      <th>HouseFloor_outlier</th>\n      <th>LifeSquare_nan</th>\n      <th>DistrictSize</th>\n    </tr>\n  </thead>\n  <tbody>\n    <tr>\n      <th>0</th>\n      <td>14038</td>\n      <td>35</td>\n      <td>2.0</td>\n      <td>47.981561</td>\n      <td>29.442751</td>\n      <td>6.0</td>\n      <td>7</td>\n      <td>9.0</td>\n      <td>1969</td>\n      <td>0.089040</td>\n      <td>...</td>\n      <td>7976</td>\n      <td>5</td>\n      <td>0</td>\n      <td>11</td>\n      <td>1</td>\n      <td>184966.930730</td>\n      <td>0</td>\n      <td>0</td>\n      <td>0</td>\n      <td>22</td>\n    </tr>\n    <tr>\n      <th>1</th>\n      <td>15053</td>\n      <td>41</td>\n      <td>3.0</td>\n      <td>65.683640</td>\n      <td>40.049543</td>\n      <td>8.0</td>\n      <td>7</td>\n      <td>9.0</td>\n      <td>1978</td>\n      <td>0.000070</td>\n      <td>...</td>\n      <td>10309</td>\n      <td>1</td>\n      <td>1</td>\n      <td>16</td>\n      <td>1</td>\n      <td>300009.450063</td>\n      <td>0</td>\n      <td>0</td>\n      <td>0</td>\n      <td>87</td>\n    </tr>\n    <tr>\n      <th>2</th>\n      <td>4765</td>\n      <td>53</td>\n      <td>2.0</td>\n      <td>44.947953</td>\n      <td>29.197612</td>\n      <td>3.0</td>\n      <td>8</td>\n      <td>12.0</td>\n      <td>1968</td>\n      <td>0.049637</td>\n      <td>...</td>\n      <td>7759</td>\n      <td>0</td>\n      <td>1</td>\n      <td>3</td>\n      <td>1</td>\n      <td>220925.908524</td>\n      <td>0</td>\n      <td>0</td>\n      <td>0</td>\n      <td>174</td>\n    </tr>\n    <tr>\n      <th>3</th>\n      <td>5809</td>\n      <td>58</td>\n      <td>2.0</td>\n      <td>53.352981</td>\n      <td>52.731512</td>\n      <td>9.0</td>\n      <td>8</td>\n      <td>17.0</td>\n      <td>1977</td>\n      <td>0.437885</td>\n      <td>...</td>\n      <td>5735</td>\n      <td>3</td>\n      <td>0</td>\n      <td>5</td>\n      <td>1</td>\n      <td>175616.227217</td>\n      <td>0</td>\n      <td>0</td>\n      <td>0</td>\n      <td>179</td>\n    </tr>\n    <tr>\n      <th>4</th>\n      <td>10783</td>\n      <td>99</td>\n      <td>1.0</td>\n      <td>39.649192</td>\n      <td>23.776169</td>\n      <td>7.0</td>\n      <td>11</td>\n      <td>12.0</td>\n      <td>1976</td>\n      <td>0.012339</td>\n      <td>...</td>\n      <td>5776</td>\n      <td>1</td>\n      <td>2</td>\n      <td>4</td>\n      <td>1</td>\n      <td>150226.531644</td>\n      <td>0</td>\n      <td>0</td>\n      <td>0</td>\n      <td>97</td>\n    </tr>\n  </tbody>\n</table>\n<p>5 rows × 23 columns</p>\n</div>"
     },
     "execution_count": 167,
     "metadata": {},
     "output_type": "execute_result"
    }
   ],
   "source": [
    "train_df = train_df.merge(district_size, on='DistrictId', how='left')\n",
    "train_df.head()"
   ],
   "metadata": {
    "collapsed": false,
    "pycharm": {
     "name": "#%%\n"
    }
   }
  },
  {
   "cell_type": "code",
   "execution_count": 168,
   "outputs": [
    {
     "data": {
      "text/plain": "True     5069\nFalse    4931\nName: DistrictSize, dtype: int64"
     },
     "execution_count": 168,
     "metadata": {},
     "output_type": "execute_result"
    }
   ],
   "source": [
    "(train_df['DistrictSize'] > 100).value_counts()"
   ],
   "metadata": {
    "collapsed": false,
    "pycharm": {
     "name": "#%%\n"
    }
   }
  },
  {
   "cell_type": "code",
   "execution_count": 169,
   "outputs": [],
   "source": [
    "train_df['IsDistrictLarge'] = (train_df['DistrictSize'] > 100).astype(int)"
   ],
   "metadata": {
    "collapsed": false,
    "pycharm": {
     "name": "#%%\n"
    }
   }
  },
  {
   "cell_type": "markdown",
   "source": [
    "##### MedPriceByDistrict"
   ],
   "metadata": {
    "collapsed": false,
    "pycharm": {
     "name": "#%% md\n"
    }
   }
  },
  {
   "cell_type": "code",
   "execution_count": 170,
   "outputs": [
    {
     "data": {
      "text/plain": "  DistrictId  Rooms  MedPriceByDistrict\n0          0    1.0       142799.434052\n1          0    2.0       176210.812334\n2          0    3.0       300610.359425\n3          1    1.0       146735.671740\n4          1    2.0       202666.310126",
      "text/html": "<div>\n<style scoped>\n    .dataframe tbody tr th:only-of-type {\n        vertical-align: middle;\n    }\n\n    .dataframe tbody tr th {\n        vertical-align: top;\n    }\n\n    .dataframe thead th {\n        text-align: right;\n    }\n</style>\n<table border=\"1\" class=\"dataframe\">\n  <thead>\n    <tr style=\"text-align: right;\">\n      <th></th>\n      <th>DistrictId</th>\n      <th>Rooms</th>\n      <th>MedPriceByDistrict</th>\n    </tr>\n  </thead>\n  <tbody>\n    <tr>\n      <th>0</th>\n      <td>0</td>\n      <td>1.0</td>\n      <td>142799.434052</td>\n    </tr>\n    <tr>\n      <th>1</th>\n      <td>0</td>\n      <td>2.0</td>\n      <td>176210.812334</td>\n    </tr>\n    <tr>\n      <th>2</th>\n      <td>0</td>\n      <td>3.0</td>\n      <td>300610.359425</td>\n    </tr>\n    <tr>\n      <th>3</th>\n      <td>1</td>\n      <td>1.0</td>\n      <td>146735.671740</td>\n    </tr>\n    <tr>\n      <th>4</th>\n      <td>1</td>\n      <td>2.0</td>\n      <td>202666.310126</td>\n    </tr>\n  </tbody>\n</table>\n</div>"
     },
     "execution_count": 170,
     "metadata": {},
     "output_type": "execute_result"
    }
   ],
   "source": [
    "med_price_by_district = train_df.groupby(['DistrictId', 'Rooms'], as_index=False).agg({'Price':'median'})\\\n",
    "                            .rename(columns={'Price':'MedPriceByDistrict'})\n",
    "\n",
    "med_price_by_district.head()"
   ],
   "metadata": {
    "collapsed": false,
    "pycharm": {
     "name": "#%%\n"
    }
   }
  },
  {
   "cell_type": "code",
   "execution_count": 171,
   "outputs": [
    {
     "data": {
      "text/plain": "(667, 3)"
     },
     "execution_count": 171,
     "metadata": {},
     "output_type": "execute_result"
    }
   ],
   "source": [
    "med_price_by_district.shape"
   ],
   "metadata": {
    "collapsed": false,
    "pycharm": {
     "name": "#%%\n"
    }
   }
  },
  {
   "cell_type": "code",
   "execution_count": 172,
   "outputs": [
    {
     "data": {
      "text/plain": "      Id DistrictId  Rooms     Square  LifeSquare  KitchenSquare  Floor  \\\n0  14038         35    2.0  47.981561   29.442751            6.0      7   \n1  15053         41    3.0  65.683640   40.049543            8.0      7   \n2   4765         53    2.0  44.947953   29.197612            3.0      8   \n3   5809         58    2.0  53.352981   52.731512            9.0      8   \n4  10783         99    1.0  39.649192   23.776169            7.0     11   \n\n   HouseFloor  HouseYear  Ecology_1  ...  Helthcare_2  Shops_1  Shops_2  \\\n0         9.0       1969   0.089040  ...            0       11        1   \n1         9.0       1978   0.000070  ...            1       16        1   \n2        12.0       1968   0.049637  ...            1        3        1   \n3        17.0       1977   0.437885  ...            0        5        1   \n4        12.0       1976   0.012339  ...            2        4        1   \n\n           Price  Rooms_outlier  HouseFloor_outlier  LifeSquare_nan  \\\n0  184966.930730              0                   0               0   \n1  300009.450063              0                   0               0   \n2  220925.908524              0                   0               0   \n3  175616.227217              0                   0               0   \n4  150226.531644              0                   0               0   \n\n   DistrictSize  IsDistrictLarge  MedPriceByDistrict  \n0            22                0       207786.135836  \n1            87                0       300009.450063  \n2           174                1       263206.223152  \n3           179                1       166809.665642  \n4            97                0       158539.052715  \n\n[5 rows x 25 columns]",
      "text/html": "<div>\n<style scoped>\n    .dataframe tbody tr th:only-of-type {\n        vertical-align: middle;\n    }\n\n    .dataframe tbody tr th {\n        vertical-align: top;\n    }\n\n    .dataframe thead th {\n        text-align: right;\n    }\n</style>\n<table border=\"1\" class=\"dataframe\">\n  <thead>\n    <tr style=\"text-align: right;\">\n      <th></th>\n      <th>Id</th>\n      <th>DistrictId</th>\n      <th>Rooms</th>\n      <th>Square</th>\n      <th>LifeSquare</th>\n      <th>KitchenSquare</th>\n      <th>Floor</th>\n      <th>HouseFloor</th>\n      <th>HouseYear</th>\n      <th>Ecology_1</th>\n      <th>...</th>\n      <th>Helthcare_2</th>\n      <th>Shops_1</th>\n      <th>Shops_2</th>\n      <th>Price</th>\n      <th>Rooms_outlier</th>\n      <th>HouseFloor_outlier</th>\n      <th>LifeSquare_nan</th>\n      <th>DistrictSize</th>\n      <th>IsDistrictLarge</th>\n      <th>MedPriceByDistrict</th>\n    </tr>\n  </thead>\n  <tbody>\n    <tr>\n      <th>0</th>\n      <td>14038</td>\n      <td>35</td>\n      <td>2.0</td>\n      <td>47.981561</td>\n      <td>29.442751</td>\n      <td>6.0</td>\n      <td>7</td>\n      <td>9.0</td>\n      <td>1969</td>\n      <td>0.089040</td>\n      <td>...</td>\n      <td>0</td>\n      <td>11</td>\n      <td>1</td>\n      <td>184966.930730</td>\n      <td>0</td>\n      <td>0</td>\n      <td>0</td>\n      <td>22</td>\n      <td>0</td>\n      <td>207786.135836</td>\n    </tr>\n    <tr>\n      <th>1</th>\n      <td>15053</td>\n      <td>41</td>\n      <td>3.0</td>\n      <td>65.683640</td>\n      <td>40.049543</td>\n      <td>8.0</td>\n      <td>7</td>\n      <td>9.0</td>\n      <td>1978</td>\n      <td>0.000070</td>\n      <td>...</td>\n      <td>1</td>\n      <td>16</td>\n      <td>1</td>\n      <td>300009.450063</td>\n      <td>0</td>\n      <td>0</td>\n      <td>0</td>\n      <td>87</td>\n      <td>0</td>\n      <td>300009.450063</td>\n    </tr>\n    <tr>\n      <th>2</th>\n      <td>4765</td>\n      <td>53</td>\n      <td>2.0</td>\n      <td>44.947953</td>\n      <td>29.197612</td>\n      <td>3.0</td>\n      <td>8</td>\n      <td>12.0</td>\n      <td>1968</td>\n      <td>0.049637</td>\n      <td>...</td>\n      <td>1</td>\n      <td>3</td>\n      <td>1</td>\n      <td>220925.908524</td>\n      <td>0</td>\n      <td>0</td>\n      <td>0</td>\n      <td>174</td>\n      <td>1</td>\n      <td>263206.223152</td>\n    </tr>\n    <tr>\n      <th>3</th>\n      <td>5809</td>\n      <td>58</td>\n      <td>2.0</td>\n      <td>53.352981</td>\n      <td>52.731512</td>\n      <td>9.0</td>\n      <td>8</td>\n      <td>17.0</td>\n      <td>1977</td>\n      <td>0.437885</td>\n      <td>...</td>\n      <td>0</td>\n      <td>5</td>\n      <td>1</td>\n      <td>175616.227217</td>\n      <td>0</td>\n      <td>0</td>\n      <td>0</td>\n      <td>179</td>\n      <td>1</td>\n      <td>166809.665642</td>\n    </tr>\n    <tr>\n      <th>4</th>\n      <td>10783</td>\n      <td>99</td>\n      <td>1.0</td>\n      <td>39.649192</td>\n      <td>23.776169</td>\n      <td>7.0</td>\n      <td>11</td>\n      <td>12.0</td>\n      <td>1976</td>\n      <td>0.012339</td>\n      <td>...</td>\n      <td>2</td>\n      <td>4</td>\n      <td>1</td>\n      <td>150226.531644</td>\n      <td>0</td>\n      <td>0</td>\n      <td>0</td>\n      <td>97</td>\n      <td>0</td>\n      <td>158539.052715</td>\n    </tr>\n  </tbody>\n</table>\n<p>5 rows × 25 columns</p>\n</div>"
     },
     "execution_count": 172,
     "metadata": {},
     "output_type": "execute_result"
    }
   ],
   "source": [
    "train_df = train_df.merge(med_price_by_district, on=['DistrictId', 'Rooms'], how='left')\n",
    "train_df.head()"
   ],
   "metadata": {
    "collapsed": false,
    "pycharm": {
     "name": "#%%\n"
    }
   }
  },
  {
   "cell_type": "markdown",
   "source": [
    "##### MedPriceByFloorYear"
   ],
   "metadata": {
    "collapsed": false,
    "pycharm": {
     "name": "#%% md\n"
    }
   }
  },
  {
   "cell_type": "code",
   "execution_count": 173,
   "outputs": [],
   "source": [
    "def floor_to_cat(X):\n",
    "\n",
    "    X['floor_cat'] = 0\n",
    "\n",
    "    X.loc[X['Floor'] <= 3, 'floor_cat'] = 1\n",
    "    X.loc[(X['Floor'] > 3) & (X['Floor'] <= 5), 'floor_cat'] = 2\n",
    "    X.loc[(X['Floor'] > 5) & (X['Floor'] <= 9), 'floor_cat'] = 3\n",
    "    X.loc[(X['Floor'] > 9) & (X['Floor'] <= 15), 'floor_cat'] = 4\n",
    "    X.loc[X['Floor'] > 15, 'floor_cat'] = 5\n",
    "\n",
    "    return X\n",
    "\n",
    "\n",
    "def floor_to_cat_pandas(X):\n",
    "    bins = [X['Floor'].min(), 3, 5, 9, 15, X['Floor'].max()]\n",
    "    X['floor_cat'] = pd.cut(X['Floor'], bins=bins, labels=False)\n",
    "\n",
    "    X['floor_cat'].fillna(-1, inplace=True)\n",
    "    return X\n",
    "\n",
    "\n",
    "def year_to_cat(X):\n",
    "\n",
    "    X['year_cat'] = 0\n",
    "\n",
    "    X.loc[X['HouseYear'] <= 1941, 'year_cat'] = 1\n",
    "    X.loc[(X['HouseYear'] > 1941) & (X['HouseYear'] <= 1945), 'year_cat'] = 2\n",
    "    X.loc[(X['HouseYear'] > 1945) & (X['HouseYear'] <= 1980), 'year_cat'] = 3\n",
    "    X.loc[(X['HouseYear'] > 1980) & (X['HouseYear'] <= 2000), 'year_cat'] = 4\n",
    "    X.loc[(X['HouseYear'] > 2000) & (X['HouseYear'] <= 2010), 'year_cat'] = 5\n",
    "    X.loc[(X['HouseYear'] > 2010), 'year_cat'] = 6\n",
    "\n",
    "    return X\n",
    "\n",
    "\n",
    "def year_to_cat_pandas(X):\n",
    "    bins = [X['HouseYear'].min(), 1941, 1945, 1980, 2000, 2010, X['HouseYear'].max()]\n",
    "    X['year_cat'] = pd.cut(X['HouseYear'], bins=bins, labels=False)\n",
    "\n",
    "    X['year_cat'].fillna(-1, inplace=True)\n",
    "    return X"
   ],
   "metadata": {
    "collapsed": false,
    "pycharm": {
     "name": "#%%\n"
    }
   }
  },
  {
   "cell_type": "code",
   "execution_count": 174,
   "outputs": [
    {
     "data": {
      "text/plain": "0       2.0\n1       2.0\n2       2.0\n3       2.0\n4       3.0\n       ... \n9995    1.0\n9996    3.0\n9997    3.0\n9998    NaN\n9999    2.0\nName: Floor, Length: 10000, dtype: float64"
     },
     "execution_count": 174,
     "metadata": {},
     "output_type": "execute_result"
    }
   ],
   "source": [
    "bins = [train_df['Floor'].min(), 3, 5, 9, 15, train_df['Floor'].max()]\n",
    "pd.cut(train_df['Floor'], bins=bins, labels=False)"
   ],
   "metadata": {
    "collapsed": false,
    "pycharm": {
     "name": "#%%\n"
    }
   }
  },
  {
   "cell_type": "code",
   "execution_count": 175,
   "outputs": [
    {
     "data": {
      "text/plain": "0        (5.0, 9.0]\n1        (5.0, 9.0]\n2        (5.0, 9.0]\n3        (5.0, 9.0]\n4       (9.0, 15.0]\n           ...     \n9995     (3.0, 5.0]\n9996    (9.0, 15.0]\n9997    (9.0, 15.0]\n9998            NaN\n9999     (5.0, 9.0]\nName: Floor, Length: 10000, dtype: category\nCategories (5, interval[int64, right]): [(1, 3] < (3, 5] < (5, 9] < (9, 15] < (15, 42]]"
     },
     "execution_count": 175,
     "metadata": {},
     "output_type": "execute_result"
    }
   ],
   "source": [
    "bins = [train_df['Floor'].min(), 3, 5, 9, 15, train_df['Floor'].max()]\n",
    "pd.cut(train_df['Floor'], bins=bins)"
   ],
   "metadata": {
    "collapsed": false,
    "pycharm": {
     "name": "#%%\n"
    }
   }
  },
  {
   "cell_type": "code",
   "execution_count": 176,
   "outputs": [
    {
     "data": {
      "text/plain": "      Id DistrictId  Rooms     Square  LifeSquare  KitchenSquare  Floor  \\\n0  14038         35    2.0  47.981561   29.442751            6.0      7   \n1  15053         41    3.0  65.683640   40.049543            8.0      7   \n2   4765         53    2.0  44.947953   29.197612            3.0      8   \n3   5809         58    2.0  53.352981   52.731512            9.0      8   \n4  10783         99    1.0  39.649192   23.776169            7.0     11   \n\n   HouseFloor  HouseYear  Ecology_1  ...  Shops_2          Price  \\\n0         9.0       1969   0.089040  ...        1  184966.930730   \n1         9.0       1978   0.000070  ...        1  300009.450063   \n2        12.0       1968   0.049637  ...        1  220925.908524   \n3        17.0       1977   0.437885  ...        1  175616.227217   \n4        12.0       1976   0.012339  ...        1  150226.531644   \n\n   Rooms_outlier  HouseFloor_outlier  LifeSquare_nan  DistrictSize  \\\n0              0                   0               0            22   \n1              0                   0               0            87   \n2              0                   0               0           174   \n3              0                   0               0           179   \n4              0                   0               0            97   \n\n   IsDistrictLarge  MedPriceByDistrict  year_cat  floor_cat  \n0                0       207786.135836         3          3  \n1                0       300009.450063         3          3  \n2                1       263206.223152         3          3  \n3                1       166809.665642         3          3  \n4                0       158539.052715         3          4  \n\n[5 rows x 27 columns]",
      "text/html": "<div>\n<style scoped>\n    .dataframe tbody tr th:only-of-type {\n        vertical-align: middle;\n    }\n\n    .dataframe tbody tr th {\n        vertical-align: top;\n    }\n\n    .dataframe thead th {\n        text-align: right;\n    }\n</style>\n<table border=\"1\" class=\"dataframe\">\n  <thead>\n    <tr style=\"text-align: right;\">\n      <th></th>\n      <th>Id</th>\n      <th>DistrictId</th>\n      <th>Rooms</th>\n      <th>Square</th>\n      <th>LifeSquare</th>\n      <th>KitchenSquare</th>\n      <th>Floor</th>\n      <th>HouseFloor</th>\n      <th>HouseYear</th>\n      <th>Ecology_1</th>\n      <th>...</th>\n      <th>Shops_2</th>\n      <th>Price</th>\n      <th>Rooms_outlier</th>\n      <th>HouseFloor_outlier</th>\n      <th>LifeSquare_nan</th>\n      <th>DistrictSize</th>\n      <th>IsDistrictLarge</th>\n      <th>MedPriceByDistrict</th>\n      <th>year_cat</th>\n      <th>floor_cat</th>\n    </tr>\n  </thead>\n  <tbody>\n    <tr>\n      <th>0</th>\n      <td>14038</td>\n      <td>35</td>\n      <td>2.0</td>\n      <td>47.981561</td>\n      <td>29.442751</td>\n      <td>6.0</td>\n      <td>7</td>\n      <td>9.0</td>\n      <td>1969</td>\n      <td>0.089040</td>\n      <td>...</td>\n      <td>1</td>\n      <td>184966.930730</td>\n      <td>0</td>\n      <td>0</td>\n      <td>0</td>\n      <td>22</td>\n      <td>0</td>\n      <td>207786.135836</td>\n      <td>3</td>\n      <td>3</td>\n    </tr>\n    <tr>\n      <th>1</th>\n      <td>15053</td>\n      <td>41</td>\n      <td>3.0</td>\n      <td>65.683640</td>\n      <td>40.049543</td>\n      <td>8.0</td>\n      <td>7</td>\n      <td>9.0</td>\n      <td>1978</td>\n      <td>0.000070</td>\n      <td>...</td>\n      <td>1</td>\n      <td>300009.450063</td>\n      <td>0</td>\n      <td>0</td>\n      <td>0</td>\n      <td>87</td>\n      <td>0</td>\n      <td>300009.450063</td>\n      <td>3</td>\n      <td>3</td>\n    </tr>\n    <tr>\n      <th>2</th>\n      <td>4765</td>\n      <td>53</td>\n      <td>2.0</td>\n      <td>44.947953</td>\n      <td>29.197612</td>\n      <td>3.0</td>\n      <td>8</td>\n      <td>12.0</td>\n      <td>1968</td>\n      <td>0.049637</td>\n      <td>...</td>\n      <td>1</td>\n      <td>220925.908524</td>\n      <td>0</td>\n      <td>0</td>\n      <td>0</td>\n      <td>174</td>\n      <td>1</td>\n      <td>263206.223152</td>\n      <td>3</td>\n      <td>3</td>\n    </tr>\n    <tr>\n      <th>3</th>\n      <td>5809</td>\n      <td>58</td>\n      <td>2.0</td>\n      <td>53.352981</td>\n      <td>52.731512</td>\n      <td>9.0</td>\n      <td>8</td>\n      <td>17.0</td>\n      <td>1977</td>\n      <td>0.437885</td>\n      <td>...</td>\n      <td>1</td>\n      <td>175616.227217</td>\n      <td>0</td>\n      <td>0</td>\n      <td>0</td>\n      <td>179</td>\n      <td>1</td>\n      <td>166809.665642</td>\n      <td>3</td>\n      <td>3</td>\n    </tr>\n    <tr>\n      <th>4</th>\n      <td>10783</td>\n      <td>99</td>\n      <td>1.0</td>\n      <td>39.649192</td>\n      <td>23.776169</td>\n      <td>7.0</td>\n      <td>11</td>\n      <td>12.0</td>\n      <td>1976</td>\n      <td>0.012339</td>\n      <td>...</td>\n      <td>1</td>\n      <td>150226.531644</td>\n      <td>0</td>\n      <td>0</td>\n      <td>0</td>\n      <td>97</td>\n      <td>0</td>\n      <td>158539.052715</td>\n      <td>3</td>\n      <td>4</td>\n    </tr>\n  </tbody>\n</table>\n<p>5 rows × 27 columns</p>\n</div>"
     },
     "execution_count": 176,
     "metadata": {},
     "output_type": "execute_result"
    }
   ],
   "source": [
    "train_df = year_to_cat(train_df)\n",
    "train_df = floor_to_cat(train_df)\n",
    "train_df.head()"
   ],
   "metadata": {
    "collapsed": false,
    "pycharm": {
     "name": "#%%\n"
    }
   }
  },
  {
   "cell_type": "code",
   "execution_count": 177,
   "outputs": [
    {
     "data": {
      "text/plain": "   year_cat  floor_cat  MedPriceByFloorYear\n0         1          1        374737.658654\n1         1          2        321497.418777\n2         1          3        429090.881284\n3         1          4        274992.472366\n4         2          1        467230.539057",
      "text/html": "<div>\n<style scoped>\n    .dataframe tbody tr th:only-of-type {\n        vertical-align: middle;\n    }\n\n    .dataframe tbody tr th {\n        vertical-align: top;\n    }\n\n    .dataframe thead th {\n        text-align: right;\n    }\n</style>\n<table border=\"1\" class=\"dataframe\">\n  <thead>\n    <tr style=\"text-align: right;\">\n      <th></th>\n      <th>year_cat</th>\n      <th>floor_cat</th>\n      <th>MedPriceByFloorYear</th>\n    </tr>\n  </thead>\n  <tbody>\n    <tr>\n      <th>0</th>\n      <td>1</td>\n      <td>1</td>\n      <td>374737.658654</td>\n    </tr>\n    <tr>\n      <th>1</th>\n      <td>1</td>\n      <td>2</td>\n      <td>321497.418777</td>\n    </tr>\n    <tr>\n      <th>2</th>\n      <td>1</td>\n      <td>3</td>\n      <td>429090.881284</td>\n    </tr>\n    <tr>\n      <th>3</th>\n      <td>1</td>\n      <td>4</td>\n      <td>274992.472366</td>\n    </tr>\n    <tr>\n      <th>4</th>\n      <td>2</td>\n      <td>1</td>\n      <td>467230.539057</td>\n    </tr>\n  </tbody>\n</table>\n</div>"
     },
     "execution_count": 177,
     "metadata": {},
     "output_type": "execute_result"
    }
   ],
   "source": [
    "med_price_by_floor_year = train_df.groupby(['year_cat', 'floor_cat'], as_index=False).agg({'Price':'median'}).\\\n",
    "                                            rename(columns={'Price':'MedPriceByFloorYear'})\n",
    "med_price_by_floor_year.head()"
   ],
   "metadata": {
    "collapsed": false,
    "pycharm": {
     "name": "#%%\n"
    }
   }
  },
  {
   "cell_type": "code",
   "execution_count": 178,
   "outputs": [
    {
     "data": {
      "text/plain": "      Id DistrictId  Rooms     Square  LifeSquare  KitchenSquare  Floor  \\\n0  14038         35    2.0  47.981561   29.442751            6.0      7   \n1  15053         41    3.0  65.683640   40.049543            8.0      7   \n2   4765         53    2.0  44.947953   29.197612            3.0      8   \n3   5809         58    2.0  53.352981   52.731512            9.0      8   \n4  10783         99    1.0  39.649192   23.776169            7.0     11   \n\n   HouseFloor  HouseYear  Ecology_1  ...          Price  Rooms_outlier  \\\n0         9.0       1969   0.089040  ...  184966.930730              0   \n1         9.0       1978   0.000070  ...  300009.450063              0   \n2        12.0       1968   0.049637  ...  220925.908524              0   \n3        17.0       1977   0.437885  ...  175616.227217              0   \n4        12.0       1976   0.012339  ...  150226.531644              0   \n\n   HouseFloor_outlier  LifeSquare_nan  DistrictSize  IsDistrictLarge  \\\n0                   0               0            22                0   \n1                   0               0            87                0   \n2                   0               0           174                1   \n3                   0               0           179                1   \n4                   0               0            97                0   \n\n   MedPriceByDistrict  year_cat  floor_cat  MedPriceByFloorYear  \n0       207786.135836         3          3        192330.440480  \n1       300009.450063         3          3        192330.440480  \n2       263206.223152         3          3        192330.440480  \n3       166809.665642         3          3        192330.440480  \n4       158539.052715         3          4        183595.406754  \n\n[5 rows x 28 columns]",
      "text/html": "<div>\n<style scoped>\n    .dataframe tbody tr th:only-of-type {\n        vertical-align: middle;\n    }\n\n    .dataframe tbody tr th {\n        vertical-align: top;\n    }\n\n    .dataframe thead th {\n        text-align: right;\n    }\n</style>\n<table border=\"1\" class=\"dataframe\">\n  <thead>\n    <tr style=\"text-align: right;\">\n      <th></th>\n      <th>Id</th>\n      <th>DistrictId</th>\n      <th>Rooms</th>\n      <th>Square</th>\n      <th>LifeSquare</th>\n      <th>KitchenSquare</th>\n      <th>Floor</th>\n      <th>HouseFloor</th>\n      <th>HouseYear</th>\n      <th>Ecology_1</th>\n      <th>...</th>\n      <th>Price</th>\n      <th>Rooms_outlier</th>\n      <th>HouseFloor_outlier</th>\n      <th>LifeSquare_nan</th>\n      <th>DistrictSize</th>\n      <th>IsDistrictLarge</th>\n      <th>MedPriceByDistrict</th>\n      <th>year_cat</th>\n      <th>floor_cat</th>\n      <th>MedPriceByFloorYear</th>\n    </tr>\n  </thead>\n  <tbody>\n    <tr>\n      <th>0</th>\n      <td>14038</td>\n      <td>35</td>\n      <td>2.0</td>\n      <td>47.981561</td>\n      <td>29.442751</td>\n      <td>6.0</td>\n      <td>7</td>\n      <td>9.0</td>\n      <td>1969</td>\n      <td>0.089040</td>\n      <td>...</td>\n      <td>184966.930730</td>\n      <td>0</td>\n      <td>0</td>\n      <td>0</td>\n      <td>22</td>\n      <td>0</td>\n      <td>207786.135836</td>\n      <td>3</td>\n      <td>3</td>\n      <td>192330.440480</td>\n    </tr>\n    <tr>\n      <th>1</th>\n      <td>15053</td>\n      <td>41</td>\n      <td>3.0</td>\n      <td>65.683640</td>\n      <td>40.049543</td>\n      <td>8.0</td>\n      <td>7</td>\n      <td>9.0</td>\n      <td>1978</td>\n      <td>0.000070</td>\n      <td>...</td>\n      <td>300009.450063</td>\n      <td>0</td>\n      <td>0</td>\n      <td>0</td>\n      <td>87</td>\n      <td>0</td>\n      <td>300009.450063</td>\n      <td>3</td>\n      <td>3</td>\n      <td>192330.440480</td>\n    </tr>\n    <tr>\n      <th>2</th>\n      <td>4765</td>\n      <td>53</td>\n      <td>2.0</td>\n      <td>44.947953</td>\n      <td>29.197612</td>\n      <td>3.0</td>\n      <td>8</td>\n      <td>12.0</td>\n      <td>1968</td>\n      <td>0.049637</td>\n      <td>...</td>\n      <td>220925.908524</td>\n      <td>0</td>\n      <td>0</td>\n      <td>0</td>\n      <td>174</td>\n      <td>1</td>\n      <td>263206.223152</td>\n      <td>3</td>\n      <td>3</td>\n      <td>192330.440480</td>\n    </tr>\n    <tr>\n      <th>3</th>\n      <td>5809</td>\n      <td>58</td>\n      <td>2.0</td>\n      <td>53.352981</td>\n      <td>52.731512</td>\n      <td>9.0</td>\n      <td>8</td>\n      <td>17.0</td>\n      <td>1977</td>\n      <td>0.437885</td>\n      <td>...</td>\n      <td>175616.227217</td>\n      <td>0</td>\n      <td>0</td>\n      <td>0</td>\n      <td>179</td>\n      <td>1</td>\n      <td>166809.665642</td>\n      <td>3</td>\n      <td>3</td>\n      <td>192330.440480</td>\n    </tr>\n    <tr>\n      <th>4</th>\n      <td>10783</td>\n      <td>99</td>\n      <td>1.0</td>\n      <td>39.649192</td>\n      <td>23.776169</td>\n      <td>7.0</td>\n      <td>11</td>\n      <td>12.0</td>\n      <td>1976</td>\n      <td>0.012339</td>\n      <td>...</td>\n      <td>150226.531644</td>\n      <td>0</td>\n      <td>0</td>\n      <td>0</td>\n      <td>97</td>\n      <td>0</td>\n      <td>158539.052715</td>\n      <td>3</td>\n      <td>4</td>\n      <td>183595.406754</td>\n    </tr>\n  </tbody>\n</table>\n<p>5 rows × 28 columns</p>\n</div>"
     },
     "execution_count": 178,
     "metadata": {},
     "output_type": "execute_result"
    }
   ],
   "source": [
    "train_df = train_df.merge(med_price_by_floor_year, on=['year_cat', 'floor_cat'], how='left')\n",
    "train_df.head()"
   ],
   "metadata": {
    "collapsed": false,
    "pycharm": {
     "name": "#%%\n"
    }
   }
  },
  {
   "cell_type": "code",
   "execution_count": 179,
   "outputs": [],
   "source": [
    "class FeatureGenetator():\n",
    "    \"\"\"Генерация новых фич\"\"\"\n",
    "\n",
    "    def __init__(self):\n",
    "        self.DistrictId_counts = None\n",
    "        self.binary_to_numbers = None\n",
    "        self.med_price_by_district = None\n",
    "        self.med_price_by_floor_year = None\n",
    "        self.house_year_max = None\n",
    "        self.floor_max = None\n",
    "        self.house_year_min = None\n",
    "        self.floor_min = None\n",
    "        self.district_size = None\n",
    "\n",
    "    def fit(self, X, y=None):\n",
    "\n",
    "        X = X.copy()\n",
    "\n",
    "        # Binary features\n",
    "        self.binary_to_numbers = {'A': 0, 'B': 1}\n",
    "\n",
    "        # DistrictID\n",
    "        self.district_size = X['DistrictId'].value_counts().reset_index() \\\n",
    "                               .rename(columns={'index':'DistrictId', 'DistrictId':'DistrictSize'})\n",
    "\n",
    "        # Target encoding\n",
    "        ## District, Rooms\n",
    "        df = X.copy()\n",
    "\n",
    "        if y is not None:\n",
    "            df['Price'] = y.values\n",
    "\n",
    "            self.med_price_by_district = df.groupby(['DistrictId', 'Rooms'], as_index=False).agg({'Price':'median'})\\\n",
    "                                            .rename(columns={'Price':'MedPriceByDistrict'})\n",
    "\n",
    "            self.med_price_by_district_median = self.med_price_by_district['MedPriceByDistrict'].median()\n",
    "\n",
    "        ## floor, year\n",
    "        if y is not None:\n",
    "            self.floor_max = df['Floor'].max()\n",
    "            self.floor_min = df['Floor'].min()\n",
    "            self.house_year_max = df['HouseYear'].max()\n",
    "            self.house_year_min = df['HouseYear'].min()\n",
    "            df['Price'] = y.values\n",
    "            df = self.floor_to_cat(df)\n",
    "            df = self.year_to_cat(df)\n",
    "            self.med_price_by_floor_year = df.groupby(['year_cat', 'floor_cat'], as_index=False).agg({'Price':'median'}).\\\n",
    "                                            rename(columns={'Price':'MedPriceByFloorYear'})\n",
    "            self.med_price_by_floor_year_median = self.med_price_by_floor_year['MedPriceByFloorYear'].median()\n",
    "\n",
    "\n",
    "\n",
    "    def transform(self, X):\n",
    "\n",
    "        # Binary features\n",
    "        X['Ecology_2'] = X['Ecology_2'].map(self.binary_to_numbers)  # self.binary_to_numbers = {'A': 0, 'B': 1}\n",
    "        X['Ecology_3'] = X['Ecology_3'].map(self.binary_to_numbers)\n",
    "        X['Shops_2'] = X['Shops_2'].map(self.binary_to_numbers)\n",
    "\n",
    "        # DistrictId, IsDistrictLarge\n",
    "        X = X.merge(self.district_size, on='DistrictId', how='left')\n",
    "\n",
    "        X['new_district'] = 0\n",
    "        X.loc[X['DistrictSize'].isna(), 'new_district'] = 1\n",
    "\n",
    "        X['DistrictSize'].fillna(5, inplace=True)\n",
    "\n",
    "        X['IsDistrictLarge'] = (X['DistrictSize'] > 100).astype(int)\n",
    "\n",
    "        # More categorical features\n",
    "        X = self.floor_to_cat(X)  # + столбец floor_cat\n",
    "        X = self.year_to_cat(X)   # + столбец year_cat\n",
    "\n",
    "        # Target encoding\n",
    "        if self.med_price_by_district is not None:\n",
    "            X = X.merge(self.med_price_by_district, on=['DistrictId', 'Rooms'], how='left')\n",
    "            X['MedPriceByDistrict'].fillna(self.med_price_by_district_median, inplace=True)\n",
    "\n",
    "        if self.med_price_by_floor_year is not None:\n",
    "            X = X.merge(self.med_price_by_floor_year, on=['year_cat', 'floor_cat'], how='left')\n",
    "            X['MedPriceByFloorYear'].fillna(self.med_price_by_floor_year_median, inplace=True)\n",
    "\n",
    "        return X\n",
    "\n",
    "    def floor_to_cat(self, X):\n",
    "        bins = [self.floor_min, 3, 5, 9, 15, self.floor_max]\n",
    "        X['floor_cat'] = pd.cut(X['Floor'], bins=bins, labels=False)\n",
    "\n",
    "        X['floor_cat'].fillna(-1, inplace=True)\n",
    "        return X\n",
    "\n",
    "    def year_to_cat(self, X):\n",
    "        bins = [self.house_year_min, 1941, 1945, 1980, 2000, 2010, self.house_year_max]\n",
    "        X['year_cat'] = pd.cut(X['HouseYear'], bins=bins, labels=False)\n",
    "\n",
    "        X['year_cat'].fillna(-1, inplace=True)\n",
    "        return X"
   ],
   "metadata": {
    "collapsed": false,
    "pycharm": {
     "name": "#%%\n"
    }
   }
  },
  {
   "cell_type": "markdown",
   "source": [
    "### Отбор признаков"
   ],
   "metadata": {
    "collapsed": false,
    "pycharm": {
     "name": "#%% md\n"
    }
   }
  },
  {
   "cell_type": "code",
   "execution_count": 180,
   "outputs": [
    {
     "data": {
      "text/plain": "['Id',\n 'DistrictId',\n 'Rooms',\n 'Square',\n 'LifeSquare',\n 'KitchenSquare',\n 'Floor',\n 'HouseFloor',\n 'HouseYear',\n 'Ecology_1',\n 'Ecology_2',\n 'Ecology_3',\n 'Social_1',\n 'Social_2',\n 'Social_3',\n 'Helthcare_2',\n 'Shops_1',\n 'Shops_2',\n 'Price',\n 'Rooms_outlier',\n 'HouseFloor_outlier',\n 'LifeSquare_nan',\n 'DistrictSize',\n 'IsDistrictLarge',\n 'MedPriceByDistrict',\n 'year_cat',\n 'floor_cat',\n 'MedPriceByFloorYear']"
     },
     "execution_count": 180,
     "metadata": {},
     "output_type": "execute_result"
    }
   ],
   "source": [
    "train_df.columns.tolist()"
   ],
   "metadata": {
    "collapsed": false,
    "pycharm": {
     "name": "#%%\n"
    }
   }
  },
  {
   "cell_type": "code",
   "execution_count": 181,
   "outputs": [],
   "source": [
    "feature_names = ['Rooms', 'Square', 'LifeSquare', 'KitchenSquare', 'Floor', 'HouseFloor', 'HouseYear',\n",
    "                 'Ecology_1', 'Ecology_2', 'Ecology_3', 'Social_1', 'Social_2', 'Social_3',\n",
    "                 'Helthcare_2', 'Shops_1', 'Shops_2']\n",
    "\n",
    "new_feature_names = ['Rooms_outlier', 'HouseFloor_outlier', 'HouseYear_outlier', 'LifeSquare_nan', 'DistrictSize',\n",
    "                     'new_district', 'IsDistrictLarge',  'MedPriceByDistrict', 'MedPriceByFloorYear']\n",
    "\n",
    "target_name = 'Price'"
   ],
   "metadata": {
    "collapsed": false,
    "pycharm": {
     "name": "#%%\n"
    }
   }
  },
  {
   "cell_type": "markdown",
   "source": [
    "### Разбиение на train и test"
   ],
   "metadata": {
    "collapsed": false,
    "pycharm": {
     "name": "#%% md\n"
    }
   }
  },
  {
   "cell_type": "code",
   "execution_count": 182,
   "outputs": [],
   "source": [
    "train_df = pd.read_csv(TRAIN_DATASET_PATH)\n",
    "test_df = pd.read_csv(TEST_DATASET_PATH)\n",
    "\n",
    "X = train_df.drop(columns=target_name)\n",
    "y = train_df[target_name]"
   ],
   "metadata": {
    "collapsed": false,
    "pycharm": {
     "name": "#%%\n"
    }
   }
  },
  {
   "cell_type": "code",
   "execution_count": 183,
   "outputs": [],
   "source": [
    "X_train, X_valid, y_train, y_valid = train_test_split(X, y, test_size=0.33, shuffle=True, random_state=21)"
   ],
   "metadata": {
    "collapsed": false,
    "pycharm": {
     "name": "#%%\n"
    }
   }
  },
  {
   "cell_type": "code",
   "execution_count": 184,
   "outputs": [
    {
     "data": {
      "text/plain": "((6700, 22), (3300, 22), (5000, 22))"
     },
     "execution_count": 184,
     "metadata": {},
     "output_type": "execute_result"
    }
   ],
   "source": [
    "preprocessor = DataPreprocessing()\n",
    "preprocessor.fit(X_train)\n",
    "\n",
    "X_train = preprocessor.transform(X_train)\n",
    "X_valid = preprocessor.transform(X_valid)\n",
    "test_df = preprocessor.transform(test_df)\n",
    "\n",
    "X_train.shape, X_valid.shape, test_df.shape"
   ],
   "metadata": {
    "collapsed": false,
    "pycharm": {
     "name": "#%%\n"
    }
   }
  },
  {
   "cell_type": "code",
   "execution_count": 185,
   "outputs": [
    {
     "data": {
      "text/plain": "((6700, 29), (3300, 29), (5000, 29))"
     },
     "execution_count": 185,
     "metadata": {},
     "output_type": "execute_result"
    }
   ],
   "source": [
    "features_gen = FeatureGenetator()\n",
    "features_gen.fit(X_train, y_train)\n",
    "\n",
    "X_train = features_gen.transform(X_train)\n",
    "X_valid = features_gen.transform(X_valid)\n",
    "test_df = features_gen.transform(test_df)\n",
    "\n",
    "X_train.shape, X_valid.shape, test_df.shape"
   ],
   "metadata": {
    "collapsed": false,
    "pycharm": {
     "name": "#%%\n"
    }
   }
  },
  {
   "cell_type": "code",
   "execution_count": 186,
   "outputs": [],
   "source": [
    "X_train = X_train[feature_names + new_feature_names]\n",
    "X_valid = X_valid[feature_names + new_feature_names]\n",
    "test_df = test_df[feature_names + new_feature_names]"
   ],
   "metadata": {
    "collapsed": false,
    "pycharm": {
     "name": "#%%\n"
    }
   }
  },
  {
   "cell_type": "code",
   "execution_count": 187,
   "outputs": [
    {
     "data": {
      "text/plain": "(0, 0, 0)"
     },
     "execution_count": 187,
     "metadata": {},
     "output_type": "execute_result"
    }
   ],
   "source": [
    "X_train.isna().sum().sum(), X_valid.isna().sum().sum(), test_df.isna().sum().sum()"
   ],
   "metadata": {
    "collapsed": false,
    "pycharm": {
     "name": "#%%\n"
    }
   }
  },
  {
   "cell_type": "markdown",
   "source": [
    "### Построение модели"
   ],
   "metadata": {
    "collapsed": false,
    "pycharm": {
     "name": "#%% md\n"
    }
   }
  },
  {
   "cell_type": "markdown",
   "source": [
    "##### Обучение"
   ],
   "metadata": {
    "collapsed": false,
    "pycharm": {
     "name": "#%% md\n"
    }
   }
  },
  {
   "cell_type": "code",
   "execution_count": 188,
   "outputs": [
    {
     "data": {
      "text/plain": "RandomForestRegressor(criterion='friedman_mse', random_state=21)",
      "text/html": "<style>#sk-container-id-4 {color: black;background-color: white;}#sk-container-id-4 pre{padding: 0;}#sk-container-id-4 div.sk-toggleable {background-color: white;}#sk-container-id-4 label.sk-toggleable__label {cursor: pointer;display: block;width: 100%;margin-bottom: 0;padding: 0.3em;box-sizing: border-box;text-align: center;}#sk-container-id-4 label.sk-toggleable__label-arrow:before {content: \"▸\";float: left;margin-right: 0.25em;color: #696969;}#sk-container-id-4 label.sk-toggleable__label-arrow:hover:before {color: black;}#sk-container-id-4 div.sk-estimator:hover label.sk-toggleable__label-arrow:before {color: black;}#sk-container-id-4 div.sk-toggleable__content {max-height: 0;max-width: 0;overflow: hidden;text-align: left;background-color: #f0f8ff;}#sk-container-id-4 div.sk-toggleable__content pre {margin: 0.2em;color: black;border-radius: 0.25em;background-color: #f0f8ff;}#sk-container-id-4 input.sk-toggleable__control:checked~div.sk-toggleable__content {max-height: 200px;max-width: 100%;overflow: auto;}#sk-container-id-4 input.sk-toggleable__control:checked~label.sk-toggleable__label-arrow:before {content: \"▾\";}#sk-container-id-4 div.sk-estimator input.sk-toggleable__control:checked~label.sk-toggleable__label {background-color: #d4ebff;}#sk-container-id-4 div.sk-label input.sk-toggleable__control:checked~label.sk-toggleable__label {background-color: #d4ebff;}#sk-container-id-4 input.sk-hidden--visually {border: 0;clip: rect(1px 1px 1px 1px);clip: rect(1px, 1px, 1px, 1px);height: 1px;margin: -1px;overflow: hidden;padding: 0;position: absolute;width: 1px;}#sk-container-id-4 div.sk-estimator {font-family: monospace;background-color: #f0f8ff;border: 1px dotted black;border-radius: 0.25em;box-sizing: border-box;margin-bottom: 0.5em;}#sk-container-id-4 div.sk-estimator:hover {background-color: #d4ebff;}#sk-container-id-4 div.sk-parallel-item::after {content: \"\";width: 100%;border-bottom: 1px solid gray;flex-grow: 1;}#sk-container-id-4 div.sk-label:hover label.sk-toggleable__label {background-color: #d4ebff;}#sk-container-id-4 div.sk-serial::before {content: \"\";position: absolute;border-left: 1px solid gray;box-sizing: border-box;top: 0;bottom: 0;left: 50%;z-index: 0;}#sk-container-id-4 div.sk-serial {display: flex;flex-direction: column;align-items: center;background-color: white;padding-right: 0.2em;padding-left: 0.2em;position: relative;}#sk-container-id-4 div.sk-item {position: relative;z-index: 1;}#sk-container-id-4 div.sk-parallel {display: flex;align-items: stretch;justify-content: center;background-color: white;position: relative;}#sk-container-id-4 div.sk-item::before, #sk-container-id-4 div.sk-parallel-item::before {content: \"\";position: absolute;border-left: 1px solid gray;box-sizing: border-box;top: 0;bottom: 0;left: 50%;z-index: -1;}#sk-container-id-4 div.sk-parallel-item {display: flex;flex-direction: column;z-index: 1;position: relative;background-color: white;}#sk-container-id-4 div.sk-parallel-item:first-child::after {align-self: flex-end;width: 50%;}#sk-container-id-4 div.sk-parallel-item:last-child::after {align-self: flex-start;width: 50%;}#sk-container-id-4 div.sk-parallel-item:only-child::after {width: 0;}#sk-container-id-4 div.sk-dashed-wrapped {border: 1px dashed gray;margin: 0 0.4em 0.5em 0.4em;box-sizing: border-box;padding-bottom: 0.4em;background-color: white;}#sk-container-id-4 div.sk-label label {font-family: monospace;font-weight: bold;display: inline-block;line-height: 1.2em;}#sk-container-id-4 div.sk-label-container {text-align: center;}#sk-container-id-4 div.sk-container {/* jupyter's `normalize.less` sets `[hidden] { display: none; }` but bootstrap.min.css set `[hidden] { display: none !important; }` so we also need the `!important` here to be able to override the default hidden behavior on the sphinx rendered scikit-learn.org. See: https://github.com/scikit-learn/scikit-learn/issues/21755 */display: inline-block !important;position: relative;}#sk-container-id-4 div.sk-text-repr-fallback {display: none;}</style><div id=\"sk-container-id-4\" class=\"sk-top-container\"><div class=\"sk-text-repr-fallback\"><pre>RandomForestRegressor(criterion=&#x27;friedman_mse&#x27;, random_state=21)</pre><b>In a Jupyter environment, please rerun this cell to show the HTML representation or trust the notebook. <br />On GitHub, the HTML representation is unable to render, please try loading this page with nbviewer.org.</b></div><div class=\"sk-container\" hidden><div class=\"sk-item\"><div class=\"sk-estimator sk-toggleable\"><input class=\"sk-toggleable__control sk-hidden--visually\" id=\"sk-estimator-id-4\" type=\"checkbox\" checked><label for=\"sk-estimator-id-4\" class=\"sk-toggleable__label sk-toggleable__label-arrow\">RandomForestRegressor</label><div class=\"sk-toggleable__content\"><pre>RandomForestRegressor(criterion=&#x27;friedman_mse&#x27;, random_state=21)</pre></div></div></div></div></div>"
     },
     "execution_count": 188,
     "metadata": {},
     "output_type": "execute_result"
    }
   ],
   "source": [
    "rf_model = RandomForestRegressor(random_state=21, criterion='friedman_mse')\n",
    "rf_model.fit(X_train, y_train)"
   ],
   "metadata": {
    "collapsed": false,
    "pycharm": {
     "name": "#%%\n"
    }
   }
  },
  {
   "cell_type": "markdown",
   "source": [
    "##### Оценка модели"
   ],
   "metadata": {
    "collapsed": false,
    "pycharm": {
     "name": "#%% md\n"
    }
   }
  },
  {
   "cell_type": "code",
   "execution_count": 189,
   "outputs": [
    {
     "name": "stdout",
     "output_type": "stream",
     "text": [
      "Train R2:\t0.965\n",
      "Test R2:\t0.708\n"
     ]
    },
    {
     "data": {
      "text/plain": "<Figure size 1800x1000 with 2 Axes>",
      "image/png": "[encoded data removed]"
     },
     "metadata": {},
     "output_type": "display_data"
    }
   ],
   "source": [
    "y_train_preds = rf_model.predict(X_train)\n",
    "y_test_preds = rf_model.predict(X_valid)\n",
    "\n",
    "evaluate_preds(y_train, y_train_preds, y_valid, y_test_preds)"
   ],
   "metadata": {
    "collapsed": false,
    "pycharm": {
     "name": "#%%\n"
    }
   }
  },
  {
   "cell_type": "markdown",
   "source": [
    "##### Кросс-валидация"
   ],
   "metadata": {
    "collapsed": false,
    "pycharm": {
     "name": "#%% md\n"
    }
   }
  },
  {
   "cell_type": "code",
   "execution_count": 190,
   "outputs": [
    {
     "data": {
      "text/plain": "array([0.72986531, 0.74264224, 0.76350503])"
     },
     "execution_count": 190,
     "metadata": {},
     "output_type": "execute_result"
    }
   ],
   "source": [
    "cv_score = cross_val_score(rf_model, X_train, y_train, scoring='r2', cv=KFold(n_splits=3, shuffle=True, random_state=21))\n",
    "cv_score"
   ],
   "metadata": {
    "collapsed": false,
    "pycharm": {
     "name": "#%%\n"
    }
   }
  },
  {
   "cell_type": "code",
   "execution_count": 191,
   "outputs": [
    {
     "data": {
      "text/plain": "0.7453375283541023"
     },
     "execution_count": 191,
     "metadata": {},
     "output_type": "execute_result"
    }
   ],
   "source": [
    "cv_score.mean()"
   ],
   "metadata": {
    "collapsed": false,
    "pycharm": {
     "name": "#%%\n"
    }
   }
  },
  {
   "cell_type": "markdown",
   "source": [
    "##### Важность признаков"
   ],
   "metadata": {
    "collapsed": false,
    "pycharm": {
     "name": "#%% md\n"
    }
   }
  },
  {
   "cell_type": "code",
   "execution_count": 192,
   "outputs": [
    {
     "data": {
      "text/plain": "           feature_name  importance\n23   MedPriceByDistrict    0.628425\n1                Square    0.121045\n2            LifeSquare    0.029815\n20         DistrictSize    0.027131\n5            HouseFloor    0.024618\n6             HouseYear    0.023018\n24  MedPriceByFloorYear    0.021944\n12             Social_3    0.021155\n4                 Floor    0.018321\n3         KitchenSquare    0.017393\n7             Ecology_1    0.015739\n11             Social_2    0.013665\n10             Social_1    0.012216\n14              Shops_1    0.008532\n0                 Rooms    0.006129\n13          Helthcare_2    0.005930\n17   HouseFloor_outlier    0.001663\n19       LifeSquare_nan    0.001007\n9             Ecology_3    0.000755\n22      IsDistrictLarge    0.000690\n15              Shops_2    0.000617\n8             Ecology_2    0.000139\n16        Rooms_outlier    0.000051\n18    HouseYear_outlier    0.000001\n21         new_district    0.000000",
      "text/html": "<div>\n<style scoped>\n    .dataframe tbody tr th:only-of-type {\n        vertical-align: middle;\n    }\n\n    .dataframe tbody tr th {\n        vertical-align: top;\n    }\n\n    .dataframe thead th {\n        text-align: right;\n    }\n</style>\n<table border=\"1\" class=\"dataframe\">\n  <thead>\n    <tr style=\"text-align: right;\">\n      <th></th>\n      <th>feature_name</th>\n      <th>importance</th>\n    </tr>\n  </thead>\n  <tbody>\n    <tr>\n      <th>23</th>\n      <td>MedPriceByDistrict</td>\n      <td>0.628425</td>\n    </tr>\n    <tr>\n      <th>1</th>\n      <td>Square</td>\n      <td>0.121045</td>\n    </tr>\n    <tr>\n      <th>2</th>\n      <td>LifeSquare</td>\n      <td>0.029815</td>\n    </tr>\n    <tr>\n      <th>20</th>\n      <td>DistrictSize</td>\n      <td>0.027131</td>\n    </tr>\n    <tr>\n      <th>5</th>\n      <td>HouseFloor</td>\n      <td>0.024618</td>\n    </tr>\n    <tr>\n      <th>6</th>\n      <td>HouseYear</td>\n      <td>0.023018</td>\n    </tr>\n    <tr>\n      <th>24</th>\n      <td>MedPriceByFloorYear</td>\n      <td>0.021944</td>\n    </tr>\n    <tr>\n      <th>12</th>\n      <td>Social_3</td>\n      <td>0.021155</td>\n    </tr>\n    <tr>\n      <th>4</th>\n      <td>Floor</td>\n      <td>0.018321</td>\n    </tr>\n    <tr>\n      <th>3</th>\n      <td>KitchenSquare</td>\n      <td>0.017393</td>\n    </tr>\n    <tr>\n      <th>7</th>\n      <td>Ecology_1</td>\n      <td>0.015739</td>\n    </tr>\n    <tr>\n      <th>11</th>\n      <td>Social_2</td>\n      <td>0.013665</td>\n    </tr>\n    <tr>\n      <th>10</th>\n      <td>Social_1</td>\n      <td>0.012216</td>\n    </tr>\n    <tr>\n      <th>14</th>\n      <td>Shops_1</td>\n      <td>0.008532</td>\n    </tr>\n    <tr>\n      <th>0</th>\n      <td>Rooms</td>\n      <td>0.006129</td>\n    </tr>\n    <tr>\n      <th>13</th>\n      <td>Helthcare_2</td>\n      <td>0.005930</td>\n    </tr>\n    <tr>\n      <th>17</th>\n      <td>HouseFloor_outlier</td>\n      <td>0.001663</td>\n    </tr>\n    <tr>\n      <th>19</th>\n      <td>LifeSquare_nan</td>\n      <td>0.001007</td>\n    </tr>\n    <tr>\n      <th>9</th>\n      <td>Ecology_3</td>\n      <td>0.000755</td>\n    </tr>\n    <tr>\n      <th>22</th>\n      <td>IsDistrictLarge</td>\n      <td>0.000690</td>\n    </tr>\n    <tr>\n      <th>15</th>\n      <td>Shops_2</td>\n      <td>0.000617</td>\n    </tr>\n    <tr>\n      <th>8</th>\n      <td>Ecology_2</td>\n      <td>0.000139</td>\n    </tr>\n    <tr>\n      <th>16</th>\n      <td>Rooms_outlier</td>\n      <td>0.000051</td>\n    </tr>\n    <tr>\n      <th>18</th>\n      <td>HouseYear_outlier</td>\n      <td>0.000001</td>\n    </tr>\n    <tr>\n      <th>21</th>\n      <td>new_district</td>\n      <td>0.000000</td>\n    </tr>\n  </tbody>\n</table>\n</div>"
     },
     "execution_count": 192,
     "metadata": {},
     "output_type": "execute_result"
    }
   ],
   "source": [
    "feature_importances = pd.DataFrame(zip(X_train.columns, rf_model.feature_importances_),\n",
    "                                   columns=['feature_name', 'importance'])\n",
    "\n",
    "feature_importances.sort_values(by='importance', ascending=False)"
   ],
   "metadata": {
    "collapsed": false,
    "pycharm": {
     "name": "#%%\n"
    }
   }
  },
  {
   "cell_type": "markdown",
   "source": [
    "### Прогнозирование на тестовом датасете"
   ],
   "metadata": {
    "collapsed": false,
    "pycharm": {
     "name": "#%% md\n"
    }
   }
  },
  {
   "cell_type": "code",
   "execution_count": 193,
   "outputs": [
    {
     "data": {
      "text/plain": "      Rooms     Square  LifeSquare  KitchenSquare  Floor  HouseFloor  \\\n0       2.0  49.882643   33.432782            6.0      6        14.0   \n1       2.0  69.263183   63.263183            3.0      1         1.0   \n2       1.0  13.597819   15.948246           12.0      2         5.0   \n3       2.0  73.046609   51.940842            9.0     22        22.0   \n4       1.0  47.527111   43.387569            3.0     17        17.0   \n...     ...        ...         ...            ...    ...         ...   \n4995    3.0  67.133911   50.809797            6.0      5         9.0   \n4996    1.0  40.198472   21.807061           10.0     12        17.0   \n4997    3.0  77.842178   48.282625            9.0      7        22.0   \n4998    2.0  81.305222   75.305222            3.0      4        13.0   \n4999    2.0  60.555693   54.555693            3.0     10        17.0   \n\n      HouseYear  Ecology_1  Ecology_2  Ecology_3  ...  Shops_2  Rooms_outlier  \\\n0          1972   0.310199          1          1  ...        1              0   \n1          1977   0.075779          1          1  ...        1              0   \n2          1909   0.000000          1          1  ...        1              0   \n3          2007   0.101872          1          1  ...        1              0   \n4          2017   0.072158          1          1  ...        0              0   \n...         ...        ...        ...        ...  ...      ...            ...   \n4995       1973   0.000170          1          1  ...        1              0   \n4996       2017   0.007122          1          1  ...        1              0   \n4997       1989   0.090799          1          1  ...        1              0   \n4998       1977   0.072158          1          1  ...        0              0   \n4999       1977   0.000078          1          1  ...        1              0   \n\n      HouseFloor_outlier  HouseYear_outlier  LifeSquare_nan  DistrictSize  \\\n0                      0                  0               0         106.0   \n1                      1                  0               1          79.0   \n2                      0                  0               0           3.0   \n3                      0                  0               0          66.0   \n4                      0                  0               0         578.0   \n...                  ...                ...             ...           ...   \n4995                   0                  0               0          88.0   \n4996                   0                  0               0         445.0   \n4997                   1                  0               0          41.0   \n4998                   1                  0               1         153.0   \n4999                   0                  0               1         152.0   \n\n      new_district  IsDistrictLarge  MedPriceByDistrict  MedPriceByFloorYear  \n0                0                1       162550.157311        192538.872015  \n1                0                0       240307.895031        178342.566861  \n2                0                0       243250.623310        262279.813915  \n3                0                0       228796.542555        234885.527186  \n4                0                1       117801.204933        218538.048237  \n...            ...              ...                 ...                  ...  \n4995             0                0       246508.486248        188753.163021  \n4996             0                1       147390.425643        173987.190853  \n4997             0                0       335781.706862        231293.386289  \n4998             0                1       180325.766011        188753.163021  \n4999             0                1       177872.265188        184486.694335  \n\n[5000 rows x 25 columns]",
      "text/html": "<div>\n<style scoped>\n    .dataframe tbody tr th:only-of-type {\n        vertical-align: middle;\n    }\n\n    .dataframe tbody tr th {\n        vertical-align: top;\n    }\n\n    .dataframe thead th {\n        text-align: right;\n    }\n</style>\n<table border=\"1\" class=\"dataframe\">\n  <thead>\n    <tr style=\"text-align: right;\">\n      <th></th>\n      <th>Rooms</th>\n      <th>Square</th>\n      <th>LifeSquare</th>\n      <th>KitchenSquare</th>\n      <th>Floor</th>\n      <th>HouseFloor</th>\n      <th>HouseYear</th>\n      <th>Ecology_1</th>\n      <th>Ecology_2</th>\n      <th>Ecology_3</th>\n      <th>...</th>\n      <th>Shops_2</th>\n      <th>Rooms_outlier</th>\n      <th>HouseFloor_outlier</th>\n      <th>HouseYear_outlier</th>\n      <th>LifeSquare_nan</th>\n      <th>DistrictSize</th>\n      <th>new_district</th>\n      <th>IsDistrictLarge</th>\n      <th>MedPriceByDistrict</th>\n      <th>MedPriceByFloorYear</th>\n    </tr>\n  </thead>\n  <tbody>\n    <tr>\n      <th>0</th>\n      <td>2.0</td>\n      <td>49.882643</td>\n      <td>33.432782</td>\n      <td>6.0</td>\n      <td>6</td>\n      <td>14.0</td>\n      <td>1972</td>\n      <td>0.310199</td>\n      <td>1</td>\n      <td>1</td>\n      <td>...</td>\n      <td>1</td>\n      <td>0</td>\n      <td>0</td>\n      <td>0</td>\n      <td>0</td>\n      <td>106.0</td>\n      <td>0</td>\n      <td>1</td>\n      <td>162550.157311</td>\n      <td>192538.872015</td>\n    </tr>\n    <tr>\n      <th>1</th>\n      <td>2.0</td>\n      <td>69.263183</td>\n      <td>63.263183</td>\n      <td>3.0</td>\n      <td>1</td>\n      <td>1.0</td>\n      <td>1977</td>\n      <td>0.075779</td>\n      <td>1</td>\n      <td>1</td>\n      <td>...</td>\n      <td>1</td>\n      <td>0</td>\n      <td>1</td>\n      <td>0</td>\n      <td>1</td>\n      <td>79.0</td>\n      <td>0</td>\n      <td>0</td>\n      <td>240307.895031</td>\n      <td>178342.566861</td>\n    </tr>\n    <tr>\n      <th>2</th>\n      <td>1.0</td>\n      <td>13.597819</td>\n      <td>15.948246</td>\n      <td>12.0</td>\n      <td>2</td>\n      <td>5.0</td>\n      <td>1909</td>\n      <td>0.000000</td>\n      <td>1</td>\n      <td>1</td>\n      <td>...</td>\n      <td>1</td>\n      <td>0</td>\n      <td>0</td>\n      <td>0</td>\n      <td>0</td>\n      <td>3.0</td>\n      <td>0</td>\n      <td>0</td>\n      <td>243250.623310</td>\n      <td>262279.813915</td>\n    </tr>\n    <tr>\n      <th>3</th>\n      <td>2.0</td>\n      <td>73.046609</td>\n      <td>51.940842</td>\n      <td>9.0</td>\n      <td>22</td>\n      <td>22.0</td>\n      <td>2007</td>\n      <td>0.101872</td>\n      <td>1</td>\n      <td>1</td>\n      <td>...</td>\n      <td>1</td>\n      <td>0</td>\n      <td>0</td>\n      <td>0</td>\n      <td>0</td>\n      <td>66.0</td>\n      <td>0</td>\n      <td>0</td>\n      <td>228796.542555</td>\n      <td>234885.527186</td>\n    </tr>\n    <tr>\n      <th>4</th>\n      <td>1.0</td>\n      <td>47.527111</td>\n      <td>43.387569</td>\n      <td>3.0</td>\n      <td>17</td>\n      <td>17.0</td>\n      <td>2017</td>\n      <td>0.072158</td>\n      <td>1</td>\n      <td>1</td>\n      <td>...</td>\n      <td>0</td>\n      <td>0</td>\n      <td>0</td>\n      <td>0</td>\n      <td>0</td>\n      <td>578.0</td>\n      <td>0</td>\n      <td>1</td>\n      <td>117801.204933</td>\n      <td>218538.048237</td>\n    </tr>\n    <tr>\n      <th>...</th>\n      <td>...</td>\n      <td>...</td>\n      <td>...</td>\n      <td>...</td>\n      <td>...</td>\n      <td>...</td>\n      <td>...</td>\n      <td>...</td>\n      <td>...</td>\n      <td>...</td>\n      <td>...</td>\n      <td>...</td>\n      <td>...</td>\n      <td>...</td>\n      <td>...</td>\n      <td>...</td>\n      <td>...</td>\n      <td>...</td>\n      <td>...</td>\n      <td>...</td>\n      <td>...</td>\n    </tr>\n    <tr>\n      <th>4995</th>\n      <td>3.0</td>\n      <td>67.133911</td>\n      <td>50.809797</td>\n      <td>6.0</td>\n      <td>5</td>\n      <td>9.0</td>\n      <td>1973</td>\n      <td>0.000170</td>\n      <td>1</td>\n      <td>1</td>\n      <td>...</td>\n      <td>1</td>\n      <td>0</td>\n      <td>0</td>\n      <td>0</td>\n      <td>0</td>\n      <td>88.0</td>\n      <td>0</td>\n      <td>0</td>\n      <td>246508.486248</td>\n      <td>188753.163021</td>\n    </tr>\n    <tr>\n      <th>4996</th>\n      <td>1.0</td>\n      <td>40.198472</td>\n      <td>21.807061</td>\n      <td>10.0</td>\n      <td>12</td>\n      <td>17.0</td>\n      <td>2017</td>\n      <td>0.007122</td>\n      <td>1</td>\n      <td>1</td>\n      <td>...</td>\n      <td>1</td>\n      <td>0</td>\n      <td>0</td>\n      <td>0</td>\n      <td>0</td>\n      <td>445.0</td>\n      <td>0</td>\n      <td>1</td>\n      <td>147390.425643</td>\n      <td>173987.190853</td>\n    </tr>\n    <tr>\n      <th>4997</th>\n      <td>3.0</td>\n      <td>77.842178</td>\n      <td>48.282625</td>\n      <td>9.0</td>\n      <td>7</td>\n      <td>22.0</td>\n      <td>1989</td>\n      <td>0.090799</td>\n      <td>1</td>\n      <td>1</td>\n      <td>...</td>\n      <td>1</td>\n      <td>0</td>\n      <td>1</td>\n      <td>0</td>\n      <td>0</td>\n      <td>41.0</td>\n      <td>0</td>\n      <td>0</td>\n      <td>335781.706862</td>\n      <td>231293.386289</td>\n    </tr>\n    <tr>\n      <th>4998</th>\n      <td>2.0</td>\n      <td>81.305222</td>\n      <td>75.305222</td>\n      <td>3.0</td>\n      <td>4</td>\n      <td>13.0</td>\n      <td>1977</td>\n      <td>0.072158</td>\n      <td>1</td>\n      <td>1</td>\n      <td>...</td>\n      <td>0</td>\n      <td>0</td>\n      <td>1</td>\n      <td>0</td>\n      <td>1</td>\n      <td>153.0</td>\n      <td>0</td>\n      <td>1</td>\n      <td>180325.766011</td>\n      <td>188753.163021</td>\n    </tr>\n    <tr>\n      <th>4999</th>\n      <td>2.0</td>\n      <td>60.555693</td>\n      <td>54.555693</td>\n      <td>3.0</td>\n      <td>10</td>\n      <td>17.0</td>\n      <td>1977</td>\n      <td>0.000078</td>\n      <td>1</td>\n      <td>1</td>\n      <td>...</td>\n      <td>1</td>\n      <td>0</td>\n      <td>0</td>\n      <td>0</td>\n      <td>1</td>\n      <td>152.0</td>\n      <td>0</td>\n      <td>1</td>\n      <td>177872.265188</td>\n      <td>184486.694335</td>\n    </tr>\n  </tbody>\n</table>\n<p>5000 rows × 25 columns</p>\n</div>"
     },
     "execution_count": 193,
     "metadata": {},
     "output_type": "execute_result"
    }
   ],
   "source": [
    "test_df"
   ],
   "metadata": {
    "collapsed": false,
    "pycharm": {
     "name": "#%%\n"
    }
   }
  },
  {
   "cell_type": "code",
   "execution_count": 194,
   "outputs": [
    {
     "data": {
      "text/plain": "(5000, 25)"
     },
     "execution_count": 194,
     "metadata": {},
     "output_type": "execute_result"
    }
   ],
   "source": [
    "test_df.shape"
   ],
   "metadata": {
    "collapsed": false,
    "pycharm": {
     "name": "#%%\n"
    }
   }
  },
  {
   "cell_type": "code",
   "execution_count": 195,
   "outputs": [
    {
     "name": "stdout",
     "output_type": "stream",
     "text": [
      "<class 'pandas.core.frame.DataFrame'>\n",
      "Int64Index: 5000 entries, 0 to 4999\n",
      "Data columns (total 25 columns):\n",
      " #   Column               Non-Null Count  Dtype  \n",
      "---  ------               --------------  -----  \n",
      " 0   Rooms                5000 non-null   float64\n",
      " 1   Square               5000 non-null   float64\n",
      " 2   LifeSquare           5000 non-null   float64\n",
      " 3   KitchenSquare        5000 non-null   float64\n",
      " 4   Floor                5000 non-null   int64  \n",
      " 5   HouseFloor           5000 non-null   float64\n",
      " 6   HouseYear            5000 non-null   int64  \n",
      " 7   Ecology_1            5000 non-null   float64\n",
      " 8   Ecology_2            5000 non-null   int64  \n",
      " 9   Ecology_3            5000 non-null   int64  \n",
      " 10  Social_1             5000 non-null   int64  \n",
      " 11  Social_2             5000 non-null   int64  \n",
      " 12  Social_3             5000 non-null   int64  \n",
      " 13  Helthcare_2          5000 non-null   int64  \n",
      " 14  Shops_1              5000 non-null   int64  \n",
      " 15  Shops_2              5000 non-null   int64  \n",
      " 16  Rooms_outlier        5000 non-null   int64  \n",
      " 17  HouseFloor_outlier   5000 non-null   int64  \n",
      " 18  HouseYear_outlier    5000 non-null   int64  \n",
      " 19  LifeSquare_nan       5000 non-null   int32  \n",
      " 20  DistrictSize         5000 non-null   float64\n",
      " 21  new_district         5000 non-null   int64  \n",
      " 22  IsDistrictLarge      5000 non-null   int32  \n",
      " 23  MedPriceByDistrict   5000 non-null   float64\n",
      " 24  MedPriceByFloorYear  5000 non-null   float64\n",
      "dtypes: float64(9), int32(2), int64(14)\n",
      "memory usage: 976.6 KB\n"
     ]
    }
   ],
   "source": [
    "test_df.info()"
   ],
   "metadata": {
    "collapsed": false,
    "pycharm": {
     "name": "#%%\n"
    }
   }
  },
  {
   "cell_type": "code",
   "execution_count": 196,
   "outputs": [
    {
     "data": {
      "text/plain": "array([154002.11060405, 206459.51002649, 237078.6591893 , ...,\n       312932.70090207, 191314.78172031, 157712.99717991])"
     },
     "execution_count": 196,
     "metadata": {},
     "output_type": "execute_result"
    }
   ],
   "source": [
    "predictions = rf_model.predict(test_df)\n",
    "predictions"
   ],
   "metadata": {
    "collapsed": false,
    "pycharm": {
     "name": "#%%\n"
    }
   }
  },
  {
   "cell_type": "code",
   "execution_count": 197,
   "outputs": [
    {
     "data": {
      "text/plain": "   Rooms     Square  LifeSquare  KitchenSquare  Floor  HouseFloor  HouseYear  \\\n0    2.0  49.882643   33.432782            6.0      6        14.0       1972   \n1    2.0  69.263183   63.263183            3.0      1         1.0       1977   \n2    1.0  13.597819   15.948246           12.0      2         5.0       1909   \n3    2.0  73.046609   51.940842            9.0     22        22.0       2007   \n4    1.0  47.527111   43.387569            3.0     17        17.0       2017   \n\n   Ecology_1  Ecology_2  Ecology_3  ...  Rooms_outlier  HouseFloor_outlier  \\\n0   0.310199          1          1  ...              0                   0   \n1   0.075779          1          1  ...              0                   1   \n2   0.000000          1          1  ...              0                   0   \n3   0.101872          1          1  ...              0                   0   \n4   0.072158          1          1  ...              0                   0   \n\n   HouseYear_outlier  LifeSquare_nan  DistrictSize  new_district  \\\n0                  0               0         106.0             0   \n1                  0               1          79.0             0   \n2                  0               0           3.0             0   \n3                  0               0          66.0             0   \n4                  0               0         578.0             0   \n\n   IsDistrictLarge  MedPriceByDistrict  MedPriceByFloorYear          Price  \n0                1       162550.157311        192538.872015  154002.110604  \n1                0       240307.895031        178342.566861  206459.510026  \n2                0       243250.623310        262279.813915  237078.659189  \n3                0       228796.542555        234885.527186  298639.942908  \n4                1       117801.204933        218538.048237  148770.579239  \n\n[5 rows x 26 columns]",
      "text/html": "<div>\n<style scoped>\n    .dataframe tbody tr th:only-of-type {\n        vertical-align: middle;\n    }\n\n    .dataframe tbody tr th {\n        vertical-align: top;\n    }\n\n    .dataframe thead th {\n        text-align: right;\n    }\n</style>\n<table border=\"1\" class=\"dataframe\">\n  <thead>\n    <tr style=\"text-align: right;\">\n      <th></th>\n      <th>Rooms</th>\n      <th>Square</th>\n      <th>LifeSquare</th>\n      <th>KitchenSquare</th>\n      <th>Floor</th>\n      <th>HouseFloor</th>\n      <th>HouseYear</th>\n      <th>Ecology_1</th>\n      <th>Ecology_2</th>\n      <th>Ecology_3</th>\n      <th>...</th>\n      <th>Rooms_outlier</th>\n      <th>HouseFloor_outlier</th>\n      <th>HouseYear_outlier</th>\n      <th>LifeSquare_nan</th>\n      <th>DistrictSize</th>\n      <th>new_district</th>\n      <th>IsDistrictLarge</th>\n      <th>MedPriceByDistrict</th>\n      <th>MedPriceByFloorYear</th>\n      <th>Price</th>\n    </tr>\n  </thead>\n  <tbody>\n    <tr>\n      <th>0</th>\n      <td>2.0</td>\n      <td>49.882643</td>\n      <td>33.432782</td>\n      <td>6.0</td>\n      <td>6</td>\n      <td>14.0</td>\n      <td>1972</td>\n      <td>0.310199</td>\n      <td>1</td>\n      <td>1</td>\n      <td>...</td>\n      <td>0</td>\n      <td>0</td>\n      <td>0</td>\n      <td>0</td>\n      <td>106.0</td>\n      <td>0</td>\n      <td>1</td>\n      <td>162550.157311</td>\n      <td>192538.872015</td>\n      <td>154002.110604</td>\n    </tr>\n    <tr>\n      <th>1</th>\n      <td>2.0</td>\n      <td>69.263183</td>\n      <td>63.263183</td>\n      <td>3.0</td>\n      <td>1</td>\n      <td>1.0</td>\n      <td>1977</td>\n      <td>0.075779</td>\n      <td>1</td>\n      <td>1</td>\n      <td>...</td>\n      <td>0</td>\n      <td>1</td>\n      <td>0</td>\n      <td>1</td>\n      <td>79.0</td>\n      <td>0</td>\n      <td>0</td>\n      <td>240307.895031</td>\n      <td>178342.566861</td>\n      <td>206459.510026</td>\n    </tr>\n    <tr>\n      <th>2</th>\n      <td>1.0</td>\n      <td>13.597819</td>\n      <td>15.948246</td>\n      <td>12.0</td>\n      <td>2</td>\n      <td>5.0</td>\n      <td>1909</td>\n      <td>0.000000</td>\n      <td>1</td>\n      <td>1</td>\n      <td>...</td>\n      <td>0</td>\n      <td>0</td>\n      <td>0</td>\n      <td>0</td>\n      <td>3.0</td>\n      <td>0</td>\n      <td>0</td>\n      <td>243250.623310</td>\n      <td>262279.813915</td>\n      <td>237078.659189</td>\n    </tr>\n    <tr>\n      <th>3</th>\n      <td>2.0</td>\n      <td>73.046609</td>\n      <td>51.940842</td>\n      <td>9.0</td>\n      <td>22</td>\n      <td>22.0</td>\n      <td>2007</td>\n      <td>0.101872</td>\n      <td>1</td>\n      <td>1</td>\n      <td>...</td>\n      <td>0</td>\n      <td>0</td>\n      <td>0</td>\n      <td>0</td>\n      <td>66.0</td>\n      <td>0</td>\n      <td>0</td>\n      <td>228796.542555</td>\n      <td>234885.527186</td>\n      <td>298639.942908</td>\n    </tr>\n    <tr>\n      <th>4</th>\n      <td>1.0</td>\n      <td>47.527111</td>\n      <td>43.387569</td>\n      <td>3.0</td>\n      <td>17</td>\n      <td>17.0</td>\n      <td>2017</td>\n      <td>0.072158</td>\n      <td>1</td>\n      <td>1</td>\n      <td>...</td>\n      <td>0</td>\n      <td>0</td>\n      <td>0</td>\n      <td>0</td>\n      <td>578.0</td>\n      <td>0</td>\n      <td>1</td>\n      <td>117801.204933</td>\n      <td>218538.048237</td>\n      <td>148770.579239</td>\n    </tr>\n  </tbody>\n</table>\n<p>5 rows × 26 columns</p>\n</div>"
     },
     "execution_count": 197,
     "metadata": {},
     "output_type": "execute_result"
    }
   ],
   "source": [
    "test_df['Price'] = predictions\n",
    "test_df.head()"
   ],
   "metadata": {
    "collapsed": false,
    "pycharm": {
     "name": "#%%\n"
    }
   }
  },
  {
   "cell_type": "code",
   "execution_count": 199,
   "outputs": [],
   "source": [
    "test_df.to_csv('../GB_project/rf_submit.csv', encoding='utf-8')"
   ],
   "metadata": {
    "collapsed": false,
    "pycharm": {
     "name": "#%%\n"
    }
   }
  }
 ],
 "metadata": {
  "kernelspec": {
   "display_name": "Python 3 (ipykernel)",
   "language": "python",
   "name": "python3"
  },
  "language_info": {
   "codemirror_mode": {
    "name": "ipython",
    "version": 3
   },
   "file_extension": ".py",
   "mimetype": "text/x-python",
   "name": "python",
   "nbconvert_exporter": "python",
   "pygments_lexer": "ipython3",
   "version": "3.11.2"
  }
 },
 "nbformat": 4,
 "nbformat_minor": 1
}